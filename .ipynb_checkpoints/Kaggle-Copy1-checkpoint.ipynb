{
 "cells": [
  {
   "cell_type": "markdown",
   "id": "74f21935-32e0-4aa1-b7b3-2747ac04b39a",
   "metadata": {},
   "source": [
    "### Project 2 first Kaggle submission"
   ]
  },
  {
   "cell_type": "code",
   "execution_count": 1,
   "id": "b17b2781-e419-4c61-bef8-6d620605662e",
   "metadata": {},
   "outputs": [],
   "source": [
    "import pandas as pd\n",
    "import numpy as np\n",
    "import matplotlib.pyplot as plt\n",
    "from sklearn.linear_model import LinearRegression\n",
    "from sklearn.model_selection import train_test_split"
   ]
  },
  {
   "cell_type": "code",
   "execution_count": 2,
   "id": "6d464953-a4f1-4e7d-bfbf-dba730599998",
   "metadata": {},
   "outputs": [],
   "source": [
    "train = pd.read_csv('datasets//train.csv')\n",
    "test = pd.read_csv('datasets//test.csv')\n",
    "sample = pd.read_csv('datasets//sample_sub_reg.csv')"
   ]
  },
  {
   "cell_type": "code",
   "execution_count": 3,
   "id": "b0acc888-26b4-4989-a7a8-3aaa47ad7184",
   "metadata": {},
   "outputs": [
    {
     "data": {
      "text/plain": [
       "((2051, 81), (878, 80), (878, 2))"
      ]
     },
     "execution_count": 3,
     "metadata": {},
     "output_type": "execute_result"
    }
   ],
   "source": [
    "train.shape, test.shape, sample.shape"
   ]
  },
  {
   "cell_type": "code",
   "execution_count": 4,
   "id": "8f860d8c-2f2c-48d2-a32d-117346cea057",
   "metadata": {},
   "outputs": [
    {
     "data": {
      "text/html": [
       "<div>\n",
       "<style scoped>\n",
       "    .dataframe tbody tr th:only-of-type {\n",
       "        vertical-align: middle;\n",
       "    }\n",
       "\n",
       "    .dataframe tbody tr th {\n",
       "        vertical-align: top;\n",
       "    }\n",
       "\n",
       "    .dataframe thead th {\n",
       "        text-align: right;\n",
       "    }\n",
       "</style>\n",
       "<table border=\"1\" class=\"dataframe\">\n",
       "  <thead>\n",
       "    <tr style=\"text-align: right;\">\n",
       "      <th></th>\n",
       "      <th>Id</th>\n",
       "      <th>SalePrice</th>\n",
       "    </tr>\n",
       "  </thead>\n",
       "  <tbody>\n",
       "    <tr>\n",
       "      <th>0</th>\n",
       "      <td>2</td>\n",
       "      <td>181479.1217</td>\n",
       "    </tr>\n",
       "    <tr>\n",
       "      <th>1</th>\n",
       "      <td>4</td>\n",
       "      <td>181479.1217</td>\n",
       "    </tr>\n",
       "  </tbody>\n",
       "</table>\n",
       "</div>"
      ],
      "text/plain": [
       "   Id    SalePrice\n",
       "0   2  181479.1217\n",
       "1   4  181479.1217"
      ]
     },
     "execution_count": 4,
     "metadata": {},
     "output_type": "execute_result"
    }
   ],
   "source": [
    "sample.head(2)"
   ]
  },
  {
   "cell_type": "code",
   "execution_count": 5,
   "id": "09fca984-0af4-447e-9cc4-ad1a89941308",
   "metadata": {},
   "outputs": [],
   "source": [
    "# train model on train\n",
    "# test model on test\n",
    "train.columns\n",
    "X_train = train[['1st Flr SF']]\n",
    "y_train = train.SalePrice\n",
    "X_test = test[['1st Flr SF']]\n",
    "\n",
    "slr_kaggle = LinearRegression()\n",
    "\n",
    "#fit on train df\n",
    "slr_kaggle.fit(X_train, y_train)\n",
    "# predict on test df\n",
    "y_test_hat = slr_kaggle.predict(X_test)"
   ]
  },
  {
   "cell_type": "code",
   "execution_count": 6,
   "id": "384cc6b5-85dc-457f-a9a9-cff354823cd4",
   "metadata": {},
   "outputs": [
    {
     "name": "stdout",
     "output_type": "stream",
     "text": [
      "(878, 80) (878, 2)\n"
     ]
    },
    {
     "data": {
      "text/html": [
       "<div>\n",
       "<style scoped>\n",
       "    .dataframe tbody tr th:only-of-type {\n",
       "        vertical-align: middle;\n",
       "    }\n",
       "\n",
       "    .dataframe tbody tr th {\n",
       "        vertical-align: top;\n",
       "    }\n",
       "\n",
       "    .dataframe thead th {\n",
       "        text-align: right;\n",
       "    }\n",
       "</style>\n",
       "<table border=\"1\" class=\"dataframe\">\n",
       "  <thead>\n",
       "    <tr style=\"text-align: right;\">\n",
       "      <th></th>\n",
       "      <th>Id</th>\n",
       "      <th>SalePrice</th>\n",
       "    </tr>\n",
       "  </thead>\n",
       "  <tbody>\n",
       "    <tr>\n",
       "      <th>0</th>\n",
       "      <td>2658</td>\n",
       "      <td>149755.134628</td>\n",
       "    </tr>\n",
       "    <tr>\n",
       "      <th>1</th>\n",
       "      <td>2718</td>\n",
       "      <td>280699.737426</td>\n",
       "    </tr>\n",
       "    <tr>\n",
       "      <th>2</th>\n",
       "      <td>2414</td>\n",
       "      <td>119584.706788</td>\n",
       "    </tr>\n",
       "  </tbody>\n",
       "</table>\n",
       "</div>"
      ],
      "text/plain": [
       "     Id      SalePrice\n",
       "0  2658  149755.134628\n",
       "1  2718  280699.737426\n",
       "2  2414  119584.706788"
      ]
     },
     "execution_count": 6,
     "metadata": {},
     "output_type": "execute_result"
    }
   ],
   "source": [
    "# create df to upload to kaggle\n",
    "# this df has to have ID and SalePrice columns, spelled exactly this way\n",
    "print(test.shape, sample.shape)\n",
    "kaggle_submission = pd.DataFrame({'Id': test['Id'],\n",
    "                                  'SalePrice': y_test_hat})\n",
    "kaggle_submission.head(3)"
   ]
  },
  {
   "cell_type": "code",
   "execution_count": 7,
   "id": "c56e5162-f0da-4fee-9c3f-6ae2a2e99548",
   "metadata": {},
   "outputs": [],
   "source": [
    "kaggle_submission.to_csv('datasets/slr_to_kaggle.csv',\n",
    "                        index=False)"
   ]
  },
  {
   "cell_type": "code",
   "execution_count": 8,
   "id": "f5c07051-ecd1-44d0-b814-111ba2bf5761",
   "metadata": {},
   "outputs": [
    {
     "data": {
      "text/html": [
       "<div>\n",
       "<style scoped>\n",
       "    .dataframe tbody tr th:only-of-type {\n",
       "        vertical-align: middle;\n",
       "    }\n",
       "\n",
       "    .dataframe tbody tr th {\n",
       "        vertical-align: top;\n",
       "    }\n",
       "\n",
       "    .dataframe thead th {\n",
       "        text-align: right;\n",
       "    }\n",
       "</style>\n",
       "<table border=\"1\" class=\"dataframe\">\n",
       "  <thead>\n",
       "    <tr style=\"text-align: right;\">\n",
       "      <th></th>\n",
       "      <th>Id</th>\n",
       "      <th>SalePrice</th>\n",
       "    </tr>\n",
       "  </thead>\n",
       "  <tbody>\n",
       "    <tr>\n",
       "      <th>0</th>\n",
       "      <td>2658</td>\n",
       "      <td>149755.134628</td>\n",
       "    </tr>\n",
       "    <tr>\n",
       "      <th>1</th>\n",
       "      <td>2718</td>\n",
       "      <td>280699.737426</td>\n",
       "    </tr>\n",
       "    <tr>\n",
       "      <th>2</th>\n",
       "      <td>2414</td>\n",
       "      <td>119584.706788</td>\n",
       "    </tr>\n",
       "    <tr>\n",
       "      <th>3</th>\n",
       "      <td>1989</td>\n",
       "      <td>157174.092294</td>\n",
       "    </tr>\n",
       "    <tr>\n",
       "      <th>4</th>\n",
       "      <td>625</td>\n",
       "      <td>209848.691719</td>\n",
       "    </tr>\n",
       "    <tr>\n",
       "      <th>...</th>\n",
       "      <td>...</td>\n",
       "      <td>...</td>\n",
       "    </tr>\n",
       "    <tr>\n",
       "      <th>873</th>\n",
       "      <td>1662</td>\n",
       "      <td>171517.410447</td>\n",
       "    </tr>\n",
       "    <tr>\n",
       "      <th>874</th>\n",
       "      <td>1234</td>\n",
       "      <td>173990.396336</td>\n",
       "    </tr>\n",
       "    <tr>\n",
       "      <th>875</th>\n",
       "      <td>1373</td>\n",
       "      <td>187220.870839</td>\n",
       "    </tr>\n",
       "    <tr>\n",
       "      <th>876</th>\n",
       "      <td>1672</td>\n",
       "      <td>144314.565673</td>\n",
       "    </tr>\n",
       "    <tr>\n",
       "      <th>877</th>\n",
       "      <td>1939</td>\n",
       "      <td>151857.172633</td>\n",
       "    </tr>\n",
       "  </tbody>\n",
       "</table>\n",
       "<p>878 rows × 2 columns</p>\n",
       "</div>"
      ],
      "text/plain": [
       "       Id      SalePrice\n",
       "0    2658  149755.134628\n",
       "1    2718  280699.737426\n",
       "2    2414  119584.706788\n",
       "3    1989  157174.092294\n",
       "4     625  209848.691719\n",
       "..    ...            ...\n",
       "873  1662  171517.410447\n",
       "874  1234  173990.396336\n",
       "875  1373  187220.870839\n",
       "876  1672  144314.565673\n",
       "877  1939  151857.172633\n",
       "\n",
       "[878 rows x 2 columns]"
      ]
     },
     "execution_count": 8,
     "metadata": {},
     "output_type": "execute_result"
    }
   ],
   "source": [
    "pd.read_csv('datasets/slr_to_kaggle.csv')"
   ]
  },
  {
   "cell_type": "code",
   "execution_count": null,
   "id": "ddd92290-fc80-4beb-8549-db9c8909976b",
   "metadata": {},
   "outputs": [],
   "source": []
  },
  {
   "cell_type": "code",
   "execution_count": null,
   "id": "b20382d4-b196-46f8-9ac6-5e97810ac216",
   "metadata": {},
   "outputs": [],
   "source": []
  },
  {
   "cell_type": "code",
   "execution_count": null,
   "id": "29439618-c253-4c3b-a653-65e22dad1fc5",
   "metadata": {},
   "outputs": [],
   "source": []
  },
  {
   "cell_type": "code",
   "execution_count": null,
   "id": "2109ce01-240c-45b1-829d-9b994ea30c0b",
   "metadata": {},
   "outputs": [],
   "source": []
  },
  {
   "cell_type": "code",
   "execution_count": 11,
   "id": "cc8c7ca7-3672-4b93-9eb2-04321537982c",
   "metadata": {},
   "outputs": [],
   "source": [
    "train['baseline'] = train['SalePrice'].mean()"
   ]
  },
  {
   "cell_type": "code",
   "execution_count": null,
   "id": "afc1bfd5-02e0-49ee-beb6-a0b8bf1eaf42",
   "metadata": {},
   "outputs": [],
   "source": []
  },
  {
   "cell_type": "code",
   "execution_count": 14,
   "id": "0f8024c6-6cf1-4488-ad67-22a526ef2820",
   "metadata": {},
   "outputs": [],
   "source": [
    "train.drop(train.columns[0:4], axis=1, inplace=True)\n",
    "train.drop(train.columns[2:12], axis=1, inplace=True)\n",
    "train.drop(train.columns[3:4], axis=1, inplace=True)\n",
    "train.drop(train.columns[6:27], axis=1, inplace=True)\n",
    "train.drop(train.columns[7:11], axis=1, inplace=True)\n",
    "train.drop(train.columns[8:10], axis=1, inplace=True)\n",
    "train.drop(train.columns[10:12], axis=1, inplace=True)\n",
    "train.drop(train.columns[12:36], axis=1, inplace=True)"
   ]
  },
  {
   "cell_type": "code",
   "execution_count": 16,
   "id": "3554ecad-04d4-4639-941c-1e5b235a12f8",
   "metadata": {},
   "outputs": [],
   "source": [
    "train = train.loc[train['Bldg Type'] == '1Fam']"
   ]
  },
  {
   "cell_type": "code",
   "execution_count": 17,
   "id": "6ec1d970-f394-44e6-85c7-c03bc33c36f7",
   "metadata": {},
   "outputs": [
    {
     "data": {
      "text/plain": [
       "(1700, 14)"
      ]
     },
     "execution_count": 17,
     "metadata": {},
     "output_type": "execute_result"
    }
   ],
   "source": [
    "train.shape"
   ]
  },
  {
   "cell_type": "code",
   "execution_count": 18,
   "id": "45ff62da-5636-4be3-b905-88fd4a5b2ade",
   "metadata": {},
   "outputs": [
    {
     "data": {
      "text/plain": [
       "Lot Frontage     285\n",
       "Lot Area           0\n",
       "Bldg Type          0\n",
       "Overall Qual       0\n",
       "Overall Cond       0\n",
       "Year Built         0\n",
       "Central Air        0\n",
       "Gr Liv Area        0\n",
       "Full Bath          0\n",
       "Half Bath          0\n",
       "Kitchen Qual       0\n",
       "TotRms AbvGrd      0\n",
       "SalePrice          0\n",
       "baseline           0\n",
       "dtype: int64"
      ]
     },
     "execution_count": 18,
     "metadata": {},
     "output_type": "execute_result"
    }
   ],
   "source": [
    "train.isnull().sum()"
   ]
  },
  {
   "cell_type": "code",
   "execution_count": 19,
   "id": "16742976-0713-46ab-91c8-b7831c53cdb2",
   "metadata": {},
   "outputs": [
    {
     "data": {
      "text/plain": [
       "Lot Frontage     float64\n",
       "Lot Area           int64\n",
       "Bldg Type         object\n",
       "Overall Qual       int64\n",
       "Overall Cond       int64\n",
       "Year Built         int64\n",
       "Central Air       object\n",
       "Gr Liv Area        int64\n",
       "Full Bath          int64\n",
       "Half Bath          int64\n",
       "Kitchen Qual      object\n",
       "TotRms AbvGrd      int64\n",
       "SalePrice          int64\n",
       "baseline         float64\n",
       "dtype: object"
      ]
     },
     "execution_count": 19,
     "metadata": {},
     "output_type": "execute_result"
    }
   ],
   "source": [
    "train.dtypes"
   ]
  },
  {
   "cell_type": "code",
   "execution_count": 21,
   "id": "a2cd827d-210c-46cc-96b0-13bf52c2f708",
   "metadata": {},
   "outputs": [],
   "source": [
    "train.columns = [col.replace(' ', '_') for col in train.columns]"
   ]
  },
  {
   "cell_type": "code",
   "execution_count": 22,
   "id": "01497b10-1b4e-4bf5-887a-be3a45a6dac1",
   "metadata": {},
   "outputs": [],
   "source": [
    "train.columns = train.columns.str.lower()"
   ]
  },
  {
   "cell_type": "code",
   "execution_count": 23,
   "id": "3dae210a-5c7e-4c42-a631-48f1f0f773e0",
   "metadata": {},
   "outputs": [
    {
     "name": "stderr",
     "output_type": "stream",
     "text": [
      "C:\\Users\\micha\\AppData\\Local\\Temp\\ipykernel_21528\\2140017415.py:1: SettingWithCopyWarning: \n",
      "A value is trying to be set on a copy of a slice from a DataFrame\n",
      "\n",
      "See the caveats in the documentation: https://pandas.pydata.org/pandas-docs/stable/user_guide/indexing.html#returning-a-view-versus-a-copy\n",
      "  train.rename(columns={'saleprice': 'sale_price'}, inplace=True)\n"
     ]
    }
   ],
   "source": [
    "train.rename(columns={'saleprice': 'sale_price'}, inplace=True)"
   ]
  },
  {
   "cell_type": "code",
   "execution_count": 25,
   "id": "b827f3af-1622-43bb-a335-e7ae4599f8c1",
   "metadata": {},
   "outputs": [
    {
     "data": {
      "text/plain": [
       "lot_frontage     285\n",
       "lot_area           0\n",
       "bldg_type          0\n",
       "overall_qual       0\n",
       "overall_cond       0\n",
       "year_built         0\n",
       "central_air        0\n",
       "gr_liv_area        0\n",
       "full_bath          0\n",
       "half_bath          0\n",
       "kitchen_qual       0\n",
       "totrms_abvgrd      0\n",
       "sale_price         0\n",
       "baseline           0\n",
       "dtype: int64"
      ]
     },
     "execution_count": 25,
     "metadata": {},
     "output_type": "execute_result"
    }
   ],
   "source": [
    "train.isnull().sum()"
   ]
  },
  {
   "cell_type": "code",
   "execution_count": 26,
   "id": "f5825039-529b-4484-a6e2-ca22b573313e",
   "metadata": {},
   "outputs": [
    {
     "name": "stderr",
     "output_type": "stream",
     "text": [
      "C:\\Users\\micha\\AppData\\Local\\Temp\\ipykernel_21528\\1156291752.py:1: SettingWithCopyWarning: \n",
      "A value is trying to be set on a copy of a slice from a DataFrame\n",
      "\n",
      "See the caveats in the documentation: https://pandas.pydata.org/pandas-docs/stable/user_guide/indexing.html#returning-a-view-versus-a-copy\n",
      "  train['lot_frontage'].fillna(0, inplace=True)\n"
     ]
    }
   ],
   "source": [
    "train['lot_frontage'].fillna(0, inplace=True)"
   ]
  },
  {
   "cell_type": "code",
   "execution_count": 27,
   "id": "2c0af914-00ef-42bf-beff-6fc43f310eea",
   "metadata": {},
   "outputs": [
    {
     "name": "stderr",
     "output_type": "stream",
     "text": [
      "C:\\Users\\micha\\AppData\\Local\\Temp\\ipykernel_21528\\3569869016.py:1: SettingWithCopyWarning: \n",
      "A value is trying to be set on a copy of a slice from a DataFrame.\n",
      "Try using .loc[row_indexer,col_indexer] = value instead\n",
      "\n",
      "See the caveats in the documentation: https://pandas.pydata.org/pandas-docs/stable/user_guide/indexing.html#returning-a-view-versus-a-copy\n",
      "  train['total_bath'] = train['full_bath'] + train['half_bath']\n"
     ]
    }
   ],
   "source": [
    "train['total_bath'] = train['full_bath'] + train['half_bath']"
   ]
  },
  {
   "cell_type": "code",
   "execution_count": 29,
   "id": "69e98477-7db5-48ed-a943-564ebaa26fd4",
   "metadata": {},
   "outputs": [],
   "source": [
    "X = train.drop(['sale_price'], axis=1)\n",
    "y = train['sale_price']"
   ]
  },
  {
   "cell_type": "code",
   "execution_count": 30,
   "id": "8618c2e5-34d0-4c60-893a-066dbf7fa3ef",
   "metadata": {},
   "outputs": [
    {
     "data": {
      "text/plain": [
       "4"
      ]
     },
     "execution_count": 30,
     "metadata": {},
     "output_type": "execute_result"
    }
   ],
   "source": [
    "len(train_test_split(X, y,\n",
    "                train_size=0.8, \n",
    "                random_state=123))"
   ]
  },
  {
   "cell_type": "code",
   "execution_count": 31,
   "id": "50f2710d-72d4-4b8c-8c76-b224c2f83cae",
   "metadata": {},
   "outputs": [
    {
     "name": "stdout",
     "output_type": "stream",
     "text": [
      "Train shapes: (1360, 14) (1360,)\n",
      "Test shapes: (340, 14) (340,)\n"
     ]
    }
   ],
   "source": [
    "X_train, X_test, y_train, y_test = train_test_split(X, y, \n",
    "                                                    train_size=0.8,\n",
    "                                                    random_state=123)\n",
    "print(\"Train shapes:\", X_train.shape, y_train.shape)\n",
    "print(\"Test shapes:\", X_test.shape, y_test.shape)"
   ]
  },
  {
   "cell_type": "raw",
   "id": "c7185764-b5ed-4ac6-af8e-7a0b78aae540",
   "metadata": {},
   "source": []
  },
  {
   "cell_type": "code",
   "execution_count": 33,
   "id": "13cb5d7a-a7da-40e0-8c6a-6e66c6e3c10d",
   "metadata": {},
   "outputs": [
    {
     "data": {
      "text/plain": [
       "<matplotlib.collections.PathCollection at 0x2495474ef40>"
      ]
     },
     "execution_count": 33,
     "metadata": {},
     "output_type": "execute_result"
    },
    {
     "data": {
      "image/png": "[encoded data removed]",
      "text/plain": [
       "<Figure size 720x432 with 1 Axes>"
      ]
     },
     "metadata": {
      "needs_background": "light"
     },
     "output_type": "display_data"
    }
   ],
   "source": [
    "fig, ax = plt.subplots(figsize=(10, 6))\n",
    "ax.scatter(X_train.total_bath, y_train)"
   ]
  },
  {
   "cell_type": "code",
   "execution_count": 34,
   "id": "5fc14f61-844a-4b41-ae5b-5850421a0f36",
   "metadata": {},
   "outputs": [
    {
     "data": {
      "text/plain": [
       "<matplotlib.collections.PathCollection at 0x249547d56d0>"
      ]
     },
     "execution_count": 34,
     "metadata": {},
     "output_type": "execute_result"
    },
    {
     "data": {
      "image/png": "[encoded data removed]",
      "text/plain": [
       "<Figure size 720x432 with 1 Axes>"
      ]
     },
     "metadata": {
      "needs_background": "light"
     },
     "output_type": "display_data"
    }
   ],
   "source": [
    "fig, ax = plt.subplots(figsize=(10, 6))\n",
    "ax.scatter(X_train.gr_liv_area, y_train)"
   ]
  },
  {
   "cell_type": "code",
   "execution_count": null,
   "id": "ab6d3039-310c-4e0a-a214-43afb7b7a8cf",
   "metadata": {},
   "outputs": [],
   "source": []
  }
 ],
 "metadata": {
  "kernelspec": {
   "display_name": "Python 3 (ipykernel)",
   "language": "python",
   "name": "python3"
  },
  "language_info": {
   "codemirror_mode": {
    "name": "ipython",
    "version": 3
   },
   "file_extension": ".py",
   "mimetype": "text/x-python",
   "name": "python",
   "nbconvert_exporter": "python",
   "pygments_lexer": "ipython3",
   "version": "3.9.12"
  }
 },
 "nbformat": 4,
 "nbformat_minor": 5
}
