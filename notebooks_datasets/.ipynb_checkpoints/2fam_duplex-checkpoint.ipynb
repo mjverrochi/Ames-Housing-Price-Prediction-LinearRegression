{
 "cells": [
  {
   "cell_type": "code",
   "execution_count": 1,
   "id": "6791fd9f-5590-4347-ae3a-94b458a60f10",
   "metadata": {},
   "outputs": [],
   "source": [
    "import pandas as pd\n",
    "from sklearn.model_selection import train_test_split\n",
    "import seaborn as sns"
   ]
  },
  {
   "cell_type": "code",
   "execution_count": 2,
   "id": "882711a4-73c0-4c1c-8e37-0d232b4b456b",
   "metadata": {},
   "outputs": [
    {
     "data": {
      "text/plain": [
       "Lot Frontage      330\n",
       "Garage Yr Blt     114\n",
       "Mas Vnr Type       22\n",
       "Mas Vnr Area       22\n",
       "Bsmt Exposure       4\n",
       "BsmtFin Type 2      2\n",
       "Bsmt Full Bath      2\n",
       "Bsmt Half Bath      2\n",
       "Garage Cond         1\n",
       "Bsmt Qual           1\n",
       "dtype: int64"
      ]
     },
     "execution_count": 2,
     "metadata": {},
     "output_type": "execute_result"
    }
   ],
   "source": [
    "train = pd.read_csv('datasets/train.csv', keep_default_na=False, na_values=[''])\n",
    "train.isnull().sum().sort_values(ascending=False).head(10)"
   ]
  },
  {
   "cell_type": "code",
   "execution_count": 3,
   "id": "6eb61da2-f4f9-4225-855f-a96e806b56cb",
   "metadata": {},
   "outputs": [],
   "source": [
    "train = train[train['Gr Liv Area'] < 4000]"
   ]
  },
  {
   "cell_type": "code",
   "execution_count": 4,
   "id": "404fdd5f-ef1b-4df6-93a5-475e63891d8c",
   "metadata": {},
   "outputs": [
    {
     "data": {
      "text/plain": [
       "array(['1Fam', 'TwnhsE', 'Twnhs', '2fmCon', 'Duplex'], dtype=object)"
      ]
     },
     "execution_count": 4,
     "metadata": {},
     "output_type": "execute_result"
    }
   ],
   "source": [
    "train['Bldg Type'].unique()"
   ]
  },
  {
   "cell_type": "code",
   "execution_count": 5,
   "id": "56eb48c8-c0af-4330-afe2-4e7fbcccfd05",
   "metadata": {},
   "outputs": [],
   "source": [
    "train = train.loc[(train['Bldg Type'] == '2fmCon') | (train['Bldg Type'] == 'Duplex')]"
   ]
  },
  {
   "cell_type": "code",
   "execution_count": 6,
   "id": "38bd7c68-e76b-4c38-8ac3-caa7fb154bff",
   "metadata": {},
   "outputs": [
    {
     "data": {
      "text/plain": [
       "(121, 81)"
      ]
     },
     "execution_count": 6,
     "metadata": {},
     "output_type": "execute_result"
    }
   ],
   "source": [
    "train.shape"
   ]
  },
  {
   "cell_type": "markdown",
   "id": "47ee27fd-33c2-4891-b111-989259bd0c7c",
   "metadata": {},
   "source": [
    "### Data Cleaning"
   ]
  },
  {
   "cell_type": "code",
   "execution_count": 7,
   "id": "d5936039-8167-438b-8e1c-acd11d272bee",
   "metadata": {},
   "outputs": [],
   "source": [
    "train.columns = [col.replace(' ', '_') for col in train.columns]"
   ]
  },
  {
   "cell_type": "code",
   "execution_count": 8,
   "id": "69ca40f3-d327-4153-9c5b-7372674ef4f3",
   "metadata": {},
   "outputs": [],
   "source": [
    "train.columns = train.columns.str.lower()"
   ]
  },
  {
   "cell_type": "code",
   "execution_count": 9,
   "id": "a5e1425c-87e3-4d8b-99ac-7f858f1bbc03",
   "metadata": {},
   "outputs": [],
   "source": [
    "train.rename(columns={'saleprice': 'sale_price'}, inplace=True)"
   ]
  },
  {
   "cell_type": "markdown",
   "id": "b55d6b2a-a11d-4129-b8a7-528cf8c89975",
   "metadata": {},
   "source": [
    "### Train/Test Split"
   ]
  },
  {
   "cell_type": "code",
   "execution_count": 10,
   "id": "881b95af-5f12-46ee-95e7-594eab5bceb2",
   "metadata": {},
   "outputs": [],
   "source": [
    "features = [\n",
    "    'gr_liv_area', \n",
    "    'overall_qual', \n",
    "    'year_built',\n",
    "    'ms_zoning'\n",
    "]"
   ]
  },
  {
   "cell_type": "code",
   "execution_count": 11,
   "id": "ab0aa9e0-5462-4b3d-9c2e-0d0384122c23",
   "metadata": {},
   "outputs": [],
   "source": [
    "X = train[features]\n",
    "y = train['sale_price']\n",
    "\n",
    "X_train, X_test, y_train, y_test = train_test_split(X, y, random_state=42)"
   ]
  },
  {
   "cell_type": "markdown",
   "id": "78b3a9ac-39a9-4a4c-9c49-531481af1b2d",
   "metadata": {},
   "source": [
    "## Scaling"
   ]
  },
  {
   "cell_type": "code",
   "execution_count": 33,
   "id": "1e2be084-b502-4722-b369-b02c0f39abee",
   "metadata": {},
   "outputs": [
    {
     "name": "stdout",
     "output_type": "stream",
     "text": [
      "StandardScaler()\n"
     ]
    }
   ],
   "source": [
    "ss = StandardScaler()\n",
    "print(ss.fit(X_train))"
   ]
  },
  {
   "cell_type": "code",
   "execution_count": 34,
   "id": "7c369d50-65dc-48d7-8393-8cdcfa9fbe6e",
   "metadata": {},
   "outputs": [
    {
     "name": "stdout",
     "output_type": "stream",
     "text": [
      "[1.51177848e+03 6.06048704e+00 1.96936292e+03 1.57109191e-03\n",
      " 1.02120974e-02 3.06362922e-02 7.85545954e-04 3.14218382e-03\n",
      " 8.30322074e-01 1.23330715e-01]\n"
     ]
    }
   ],
   "source": [
    "print(ss.mean_)"
   ]
  },
  {
   "cell_type": "code",
   "execution_count": 35,
   "id": "43185b9f-83d1-497c-8634-1e31f3dd5da5",
   "metadata": {},
   "outputs": [],
   "source": [
    "X_train = pd.DataFrame(ss.transform(X_train), columns=X_train.columns)"
   ]
  },
  {
   "cell_type": "code",
   "execution_count": 36,
   "id": "74ed502f-3829-40bb-aceb-0cf8d58a1587",
   "metadata": {},
   "outputs": [
    {
     "name": "stdout",
     "output_type": "stream",
     "text": [
      "StandardScaler()\n"
     ]
    }
   ],
   "source": [
    "ss = StandardScaler()\n",
    "print(ss.fit(X_test))"
   ]
  },
  {
   "cell_type": "code",
   "execution_count": 37,
   "id": "dc1149ad-b38a-4dd5-8ded-2662f2d6bacc",
   "metadata": {},
   "outputs": [],
   "source": [
    "X_test = pd.DataFrame(ss.transform(X_test), columns=X_test.columns)"
   ]
  },
  {
   "cell_type": "markdown",
   "id": "7999227d-6393-4f82-b5a7-4effc2ca478c",
   "metadata": {},
   "source": [
    "## Visuals"
   ]
  },
  {
   "cell_type": "code",
   "execution_count": 17,
   "id": "660feb74-38fd-4201-af6a-18a2207a3f5c",
   "metadata": {},
   "outputs": [
    {
     "data": {
      "image/png": "[encoded data removed]",
      "text/plain": [
       "<Figure size 432x288 with 1 Axes>"
      ]
     },
     "metadata": {},
     "output_type": "display_data"
    }
   ],
   "source": [
    "ax = sns.regplot(x = 'gr_liv_area',\n",
    "            y = 'sale_price', \n",
    "            ci = None,\n",
    "            data = train,\n",
    "            scatter_kws={\"color\": \"dodgerblue\"}, line_kws={\"color\": \"red\"})\n",
    "ax.set(xlabel='Gross Living Area',\n",
    "       ylabel='Sale Price',\n",
    "       title='Gross Living Area (Multi Only) vs. Sale Price');\n",
    "\n",
    "sns.set(rc={'figure.figsize':(6,4)})"
   ]
  },
  {
   "cell_type": "code",
   "execution_count": null,
   "id": "4526cf2c-cdf0-40ce-8062-0550057969e1",
   "metadata": {},
   "outputs": [],
   "source": []
  }
 ],
 "metadata": {
  "kernelspec": {
   "display_name": "Python 3 (ipykernel)",
   "language": "python",
   "name": "python3"
  },
  "language_info": {
   "codemirror_mode": {
    "name": "ipython",
    "version": 3
   },
   "file_extension": ".py",
   "mimetype": "text/x-python",
   "name": "python",
   "nbconvert_exporter": "python",
   "pygments_lexer": "ipython3",
   "version": "3.9.12"
  }
 },
 "nbformat": 4,
 "nbformat_minor": 5
}
