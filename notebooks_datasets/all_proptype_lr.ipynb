{
 "cells": [
  {
   "cell_type": "markdown",
   "id": "582319dd-5efb-4334-a306-e772922643ff",
   "metadata": {},
   "source": [
    "### Looking at Model for **all** building types"
   ]
  },
  {
   "cell_type": "code",
   "execution_count": 1,
   "id": "2bce85c4-53d8-4b78-9bf6-d1c53fa83404",
   "metadata": {},
   "outputs": [],
   "source": [
    "import pandas as pd\n",
    "from sklearn.model_selection import train_test_split\n",
    "from sklearn.linear_model import LinearRegression\n",
    "from sklearn.preprocessing import OneHotEncoder, StandardScaler\n",
    "from sklearn.metrics import mean_squared_error\n",
    "import matplotlib.pyplot as plt\n",
    "import seaborn as sns"
   ]
  },
  {
   "cell_type": "code",
   "execution_count": 2,
   "id": "8d113326-7b57-4d3a-983b-d0389d1d48cc",
   "metadata": {},
   "outputs": [],
   "source": [
    "train = pd.read_csv('datasets/train.csv', keep_default_na=False, na_values=[''])\n",
    "train.isnull().sum().sort_values(ascending=False).head(10)\n",
    "test = pd.read_csv('datasets//test.csv')\n",
    "sample = pd.read_csv('datasets//sample_sub_reg.csv')"
   ]
  },
  {
   "cell_type": "code",
   "execution_count": 3,
   "id": "258e053a-4706-4ba3-89ab-d5807d6c124d",
   "metadata": {},
   "outputs": [],
   "source": [
    "train = train[train['Gr Liv Area'] < 4000]"
   ]
  },
  {
   "cell_type": "markdown",
   "id": "0249df15-33af-492b-838d-f20123fb97b3",
   "metadata": {},
   "source": [
    "### Data Cleaning"
   ]
  },
  {
   "cell_type": "code",
   "execution_count": 4,
   "id": "0afea6e5-231e-49f5-bcc2-d7eb1c4b225c",
   "metadata": {},
   "outputs": [],
   "source": [
    "train.columns = [col.replace(' ', '_') for col in train.columns]"
   ]
  },
  {
   "cell_type": "code",
   "execution_count": 5,
   "id": "b9297289-3297-40ef-a1c7-1369ab443630",
   "metadata": {},
   "outputs": [],
   "source": [
    "train.columns = train.columns.str.lower()"
   ]
  },
  {
   "cell_type": "code",
   "execution_count": 6,
   "id": "b5dc56de-8c74-4d96-974c-206c4a33042d",
   "metadata": {},
   "outputs": [],
   "source": [
    "train.rename(columns={'saleprice': 'sale_price'}, inplace=True)"
   ]
  },
  {
   "cell_type": "markdown",
   "id": "e9f69d93-532a-4859-b687-dd280aedf960",
   "metadata": {},
   "source": [
    "### Train/Test Split"
   ]
  },
  {
   "cell_type": "code",
   "execution_count": 7,
   "id": "9da1b41e-4489-440d-8eda-21428b758b54",
   "metadata": {},
   "outputs": [],
   "source": [
    "features = [\n",
    "    'gr_liv_area', \n",
    "    'overall_qual', \n",
    "    'year_built',\n",
    "    'ms_zoning'\n",
    "]"
   ]
  },
  {
   "cell_type": "code",
   "execution_count": 8,
   "id": "10395178-5791-46e4-af34-ff69c09f4e58",
   "metadata": {},
   "outputs": [],
   "source": [
    "X = train[features]\n",
    "y = train['sale_price']\n",
    "\n",
    "X_train, X_test, y_train, y_test = train_test_split(X, y, random_state=42)"
   ]
  },
  {
   "cell_type": "markdown",
   "id": "779a8e75-9eb5-4e26-a148-9de40cca09bb",
   "metadata": {},
   "source": [
    "## Visual 1\n",
    "- *putting this visual here to plot it before data changes"
   ]
  },
  {
   "cell_type": "code",
   "execution_count": 9,
   "id": "71eab78c-fe65-4562-bfa3-5bd4ab6c67b1",
   "metadata": {},
   "outputs": [
    {
     "data": {
      "image/png": "[encoded data removed]",
      "text/plain": [
       "<Figure size 432x288 with 1 Axes>"
      ]
     },
     "metadata": {
      "needs_background": "light"
     },
     "output_type": "display_data"
    }
   ],
   "source": [
    "fig, ax = plt.subplots(figsize=(6, 4))\n",
    "ax.scatter(X_train.ms_zoning, y_train)\n",
    "\n",
    "ax.set_xlabel('Square Footage of Home')\n",
    "ax.set_ylabel('Sold at Price of Home')\n",
    "ax.set_title('Zoning Classification vs. Sale Price');"
   ]
  },
  {
   "cell_type": "markdown",
   "id": "f56eda9e-658b-406c-a6ca-0112b8f36287",
   "metadata": {},
   "source": [
    "### Encoding MS Zoning"
   ]
  },
  {
   "cell_type": "code",
   "execution_count": 10,
   "id": "c396ed75-b550-418a-8685-417521a8d6bc",
   "metadata": {},
   "outputs": [
    {
     "data": {
      "text/plain": [
       "(array(['RL', 'RM', 'FV', 'RH', 'C (all)', 'A (agr)'], dtype=object),\n",
       " array(['RL', 'RM', 'FV', 'C (all)', 'RH', 'I (all)'], dtype=object))"
      ]
     },
     "execution_count": 10,
     "metadata": {},
     "output_type": "execute_result"
    }
   ],
   "source": [
    "X_train['ms_zoning'].unique(), X_test['ms_zoning'].unique()"
   ]
  },
  {
   "cell_type": "code",
   "execution_count": 11,
   "id": "047c2f58-8f24-4d23-8e15-6b5c6e8ca63d",
   "metadata": {},
   "outputs": [
    {
     "data": {
      "text/plain": [
       "gr_liv_area      int64\n",
       "overall_qual     int64\n",
       "year_built       int64\n",
       "ms_zoning       object\n",
       "dtype: object"
      ]
     },
     "execution_count": 11,
     "metadata": {},
     "output_type": "execute_result"
    }
   ],
   "source": [
    "X_train.dtypes"
   ]
  },
  {
   "cell_type": "code",
   "execution_count": 12,
   "id": "21a61c74-a1e0-4aee-a73e-36ca24f7efab",
   "metadata": {},
   "outputs": [
    {
     "data": {
      "text/plain": [
       "OneHotEncoder(handle_unknown='ignore')"
      ]
     },
     "execution_count": 12,
     "metadata": {},
     "output_type": "execute_result"
    }
   ],
   "source": [
    "ohe = OneHotEncoder(handle_unknown='ignore')\n",
    "ohe.fit(X_train[['ms_zoning']])"
   ]
  },
  {
   "cell_type": "code",
   "execution_count": 13,
   "id": "c31d134c-cc8c-436b-9328-d7a3209bdf8a",
   "metadata": {},
   "outputs": [
    {
     "data": {
      "text/plain": [
       "array(['ms_zoning_A (agr)', 'ms_zoning_C (all)', 'ms_zoning_FV',\n",
       "       'ms_zoning_RH', 'ms_zoning_RL', 'ms_zoning_RM'], dtype=object)"
      ]
     },
     "execution_count": 13,
     "metadata": {},
     "output_type": "execute_result"
    }
   ],
   "source": [
    "ohe.get_feature_names_out()"
   ]
  },
  {
   "cell_type": "code",
   "execution_count": 14,
   "id": "dda19d5c-c73f-4620-a469-c03324f7b2bb",
   "metadata": {},
   "outputs": [
    {
     "data": {
      "text/html": [
       "<div>\n",
       "<style scoped>\n",
       "    .dataframe tbody tr th:only-of-type {\n",
       "        vertical-align: middle;\n",
       "    }\n",
       "\n",
       "    .dataframe tbody tr th {\n",
       "        vertical-align: top;\n",
       "    }\n",
       "\n",
       "    .dataframe thead th {\n",
       "        text-align: right;\n",
       "    }\n",
       "</style>\n",
       "<table border=\"1\" class=\"dataframe\">\n",
       "  <thead>\n",
       "    <tr style=\"text-align: right;\">\n",
       "      <th></th>\n",
       "      <th>ms_zoning_A (agr)</th>\n",
       "      <th>ms_zoning_C (all)</th>\n",
       "      <th>ms_zoning_FV</th>\n",
       "      <th>ms_zoning_RH</th>\n",
       "      <th>ms_zoning_RL</th>\n",
       "      <th>ms_zoning_RM</th>\n",
       "    </tr>\n",
       "  </thead>\n",
       "  <tbody>\n",
       "    <tr>\n",
       "      <th>415</th>\n",
       "      <td>0.0</td>\n",
       "      <td>0.0</td>\n",
       "      <td>0.0</td>\n",
       "      <td>0.0</td>\n",
       "      <td>1.0</td>\n",
       "      <td>0.0</td>\n",
       "    </tr>\n",
       "    <tr>\n",
       "      <th>273</th>\n",
       "      <td>0.0</td>\n",
       "      <td>0.0</td>\n",
       "      <td>0.0</td>\n",
       "      <td>0.0</td>\n",
       "      <td>1.0</td>\n",
       "      <td>0.0</td>\n",
       "    </tr>\n",
       "    <tr>\n",
       "      <th>1147</th>\n",
       "      <td>0.0</td>\n",
       "      <td>0.0</td>\n",
       "      <td>0.0</td>\n",
       "      <td>0.0</td>\n",
       "      <td>1.0</td>\n",
       "      <td>0.0</td>\n",
       "    </tr>\n",
       "  </tbody>\n",
       "</table>\n",
       "</div>"
      ],
      "text/plain": [
       "      ms_zoning_A (agr)  ms_zoning_C (all)  ms_zoning_FV  ms_zoning_RH  \\\n",
       "415                 0.0                0.0           0.0           0.0   \n",
       "273                 0.0                0.0           0.0           0.0   \n",
       "1147                0.0                0.0           0.0           0.0   \n",
       "\n",
       "      ms_zoning_RL  ms_zoning_RM  \n",
       "415            1.0           0.0  \n",
       "273            1.0           0.0  \n",
       "1147           1.0           0.0  "
      ]
     },
     "execution_count": 14,
     "metadata": {},
     "output_type": "execute_result"
    }
   ],
   "source": [
    "train_ohe = pd.DataFrame(\n",
    "    ohe.transform(X_train[['ms_zoning']]).todense(),\n",
    "    columns = ohe.get_feature_names_out(),\n",
    "    index = X_train.index\n",
    ")\n",
    "\n",
    "train_ohe.head(3)"
   ]
  },
  {
   "cell_type": "code",
   "execution_count": 15,
   "id": "9e2a6232-c87e-45c4-9467-a78598bb33bb",
   "metadata": {},
   "outputs": [],
   "source": [
    "test_ohe = pd.DataFrame(\n",
    "    ohe.transform(X_test[['ms_zoning']]).todense(),\n",
    "    columns = ohe.get_feature_names_out(),\n",
    "    index = X_test.index\n",
    ")"
   ]
  },
  {
   "cell_type": "code",
   "execution_count": 16,
   "id": "91b1140e-cfdf-419a-b861-77ebeda017cd",
   "metadata": {},
   "outputs": [
    {
     "data": {
      "text/html": [
       "<div>\n",
       "<style scoped>\n",
       "    .dataframe tbody tr th:only-of-type {\n",
       "        vertical-align: middle;\n",
       "    }\n",
       "\n",
       "    .dataframe tbody tr th {\n",
       "        vertical-align: top;\n",
       "    }\n",
       "\n",
       "    .dataframe thead th {\n",
       "        text-align: right;\n",
       "    }\n",
       "</style>\n",
       "<table border=\"1\" class=\"dataframe\">\n",
       "  <thead>\n",
       "    <tr style=\"text-align: right;\">\n",
       "      <th></th>\n",
       "      <th>gr_liv_area</th>\n",
       "      <th>overall_qual</th>\n",
       "      <th>year_built</th>\n",
       "      <th>ms_zoning_A (agr)</th>\n",
       "      <th>ms_zoning_C (all)</th>\n",
       "      <th>ms_zoning_FV</th>\n",
       "      <th>ms_zoning_RH</th>\n",
       "      <th>ms_zoning_RL</th>\n",
       "      <th>ms_zoning_RM</th>\n",
       "    </tr>\n",
       "  </thead>\n",
       "  <tbody>\n",
       "    <tr>\n",
       "      <th>415</th>\n",
       "      <td>2267</td>\n",
       "      <td>7</td>\n",
       "      <td>1937</td>\n",
       "      <td>0.0</td>\n",
       "      <td>0.0</td>\n",
       "      <td>0.0</td>\n",
       "      <td>0.0</td>\n",
       "      <td>1.0</td>\n",
       "      <td>0.0</td>\n",
       "    </tr>\n",
       "    <tr>\n",
       "      <th>273</th>\n",
       "      <td>864</td>\n",
       "      <td>5</td>\n",
       "      <td>1950</td>\n",
       "      <td>0.0</td>\n",
       "      <td>0.0</td>\n",
       "      <td>0.0</td>\n",
       "      <td>0.0</td>\n",
       "      <td>1.0</td>\n",
       "      <td>0.0</td>\n",
       "    </tr>\n",
       "    <tr>\n",
       "      <th>1147</th>\n",
       "      <td>1629</td>\n",
       "      <td>8</td>\n",
       "      <td>2003</td>\n",
       "      <td>0.0</td>\n",
       "      <td>0.0</td>\n",
       "      <td>0.0</td>\n",
       "      <td>0.0</td>\n",
       "      <td>1.0</td>\n",
       "      <td>0.0</td>\n",
       "    </tr>\n",
       "  </tbody>\n",
       "</table>\n",
       "</div>"
      ],
      "text/plain": [
       "      gr_liv_area  overall_qual  year_built  ms_zoning_A (agr)  \\\n",
       "415          2267             7        1937                0.0   \n",
       "273           864             5        1950                0.0   \n",
       "1147         1629             8        2003                0.0   \n",
       "\n",
       "      ms_zoning_C (all)  ms_zoning_FV  ms_zoning_RH  ms_zoning_RL  \\\n",
       "415                 0.0           0.0           0.0           1.0   \n",
       "273                 0.0           0.0           0.0           1.0   \n",
       "1147                0.0           0.0           0.0           1.0   \n",
       "\n",
       "      ms_zoning_RM  \n",
       "415            0.0  \n",
       "273            0.0  \n",
       "1147           0.0  "
      ]
     },
     "execution_count": 16,
     "metadata": {},
     "output_type": "execute_result"
    }
   ],
   "source": [
    "X_train = pd.concat(\n",
    "    [X_train.drop(columns=['ms_zoning']), train_ohe],\n",
    "    axis=1\n",
    ")\n",
    "\n",
    "X_train.head(3)"
   ]
  },
  {
   "cell_type": "code",
   "execution_count": 17,
   "id": "22ce7d73-0ff2-4260-84bc-5154515d4fe0",
   "metadata": {},
   "outputs": [],
   "source": [
    "X_test = pd.concat(\n",
    "    [X_test.drop(columns=['ms_zoning']), test_ohe],\n",
    "    axis=1\n",
    ")"
   ]
  },
  {
   "cell_type": "code",
   "execution_count": 18,
   "id": "38a0c959-fd50-46c7-a8a6-be0b5ed656db",
   "metadata": {},
   "outputs": [
    {
     "data": {
      "text/html": [
       "<div>\n",
       "<style scoped>\n",
       "    .dataframe tbody tr th:only-of-type {\n",
       "        vertical-align: middle;\n",
       "    }\n",
       "\n",
       "    .dataframe tbody tr th {\n",
       "        vertical-align: top;\n",
       "    }\n",
       "\n",
       "    .dataframe thead th {\n",
       "        text-align: right;\n",
       "    }\n",
       "</style>\n",
       "<table border=\"1\" class=\"dataframe\">\n",
       "  <thead>\n",
       "    <tr style=\"text-align: right;\">\n",
       "      <th></th>\n",
       "      <th>gr_liv_area</th>\n",
       "      <th>overall_qual</th>\n",
       "      <th>year_built</th>\n",
       "      <th>ms_zoning_A (agr)</th>\n",
       "      <th>ms_zoning_C (all)</th>\n",
       "      <th>ms_zoning_FV</th>\n",
       "      <th>ms_zoning_RH</th>\n",
       "      <th>ms_zoning_RL</th>\n",
       "      <th>ms_zoning_RM</th>\n",
       "    </tr>\n",
       "  </thead>\n",
       "  <tbody>\n",
       "    <tr>\n",
       "      <th>1974</th>\n",
       "      <td>1077</td>\n",
       "      <td>5</td>\n",
       "      <td>1939</td>\n",
       "      <td>0.0</td>\n",
       "      <td>0.0</td>\n",
       "      <td>0.0</td>\n",
       "      <td>0.0</td>\n",
       "      <td>1.0</td>\n",
       "      <td>0.0</td>\n",
       "    </tr>\n",
       "    <tr>\n",
       "      <th>694</th>\n",
       "      <td>1824</td>\n",
       "      <td>7</td>\n",
       "      <td>1971</td>\n",
       "      <td>0.0</td>\n",
       "      <td>0.0</td>\n",
       "      <td>0.0</td>\n",
       "      <td>0.0</td>\n",
       "      <td>1.0</td>\n",
       "      <td>0.0</td>\n",
       "    </tr>\n",
       "    <tr>\n",
       "      <th>906</th>\n",
       "      <td>987</td>\n",
       "      <td>6</td>\n",
       "      <td>1972</td>\n",
       "      <td>0.0</td>\n",
       "      <td>0.0</td>\n",
       "      <td>0.0</td>\n",
       "      <td>0.0</td>\n",
       "      <td>0.0</td>\n",
       "      <td>1.0</td>\n",
       "    </tr>\n",
       "  </tbody>\n",
       "</table>\n",
       "</div>"
      ],
      "text/plain": [
       "      gr_liv_area  overall_qual  year_built  ms_zoning_A (agr)  \\\n",
       "1974         1077             5        1939                0.0   \n",
       "694          1824             7        1971                0.0   \n",
       "906           987             6        1972                0.0   \n",
       "\n",
       "      ms_zoning_C (all)  ms_zoning_FV  ms_zoning_RH  ms_zoning_RL  \\\n",
       "1974                0.0           0.0           0.0           1.0   \n",
       "694                 0.0           0.0           0.0           1.0   \n",
       "906                 0.0           0.0           0.0           0.0   \n",
       "\n",
       "      ms_zoning_RM  \n",
       "1974           0.0  \n",
       "694            0.0  \n",
       "906            1.0  "
      ]
     },
     "execution_count": 18,
     "metadata": {},
     "output_type": "execute_result"
    }
   ],
   "source": [
    "X_test.head(3)"
   ]
  },
  {
   "cell_type": "markdown",
   "id": "1893cfa1-10a6-4460-915d-d7c2b2115ee7",
   "metadata": {},
   "source": [
    "## Scaling"
   ]
  },
  {
   "cell_type": "code",
   "execution_count": 19,
   "id": "ad6e5585-5605-47da-991d-a9c043018909",
   "metadata": {},
   "outputs": [
    {
     "name": "stdout",
     "output_type": "stream",
     "text": [
      "StandardScaler()\n"
     ]
    }
   ],
   "source": [
    "ss = StandardScaler()\n",
    "print(ss.fit(X_train))"
   ]
  },
  {
   "cell_type": "code",
   "execution_count": 20,
   "id": "0e86d12b-b8cd-4280-89ac-037e04d56908",
   "metadata": {},
   "outputs": [],
   "source": [
    "X_train = pd.DataFrame(ss.transform(X_train), columns=X_train.columns)"
   ]
  },
  {
   "cell_type": "code",
   "execution_count": 21,
   "id": "178af117-d57f-4ca1-926b-d5f63c3d91b7",
   "metadata": {},
   "outputs": [
    {
     "name": "stdout",
     "output_type": "stream",
     "text": [
      "StandardScaler()\n"
     ]
    }
   ],
   "source": [
    "ss = StandardScaler()\n",
    "print(ss.fit(X_test))"
   ]
  },
  {
   "cell_type": "code",
   "execution_count": 22,
   "id": "8b6cc6be-17e4-4ab3-b37a-12934cab26f9",
   "metadata": {},
   "outputs": [],
   "source": [
    "X_test = pd.DataFrame(ss.transform(X_test), columns=X_test.columns)"
   ]
  },
  {
   "cell_type": "markdown",
   "id": "08d54750-f16b-405d-8d1e-a21d7f466707",
   "metadata": {},
   "source": [
    "### Modeling: Linear Regression"
   ]
  },
  {
   "cell_type": "code",
   "execution_count": 23,
   "id": "1b8214d1-3a9a-453d-9f29-808732dfe99b",
   "metadata": {},
   "outputs": [
    {
     "name": "stdout",
     "output_type": "stream",
     "text": [
      "MLR score: 0.7816286854594309 -3.2087214257915173e+24\n",
      "MLR intercept: 181432.55327923576\n",
      "MLR coeffs: [ 3.28270205e+04  3.58548331e+04  1.52811621e+04 -9.59467015e+16\n",
      " -2.43738424e+17 -5.66090627e+17 -2.34253171e+17 -1.09755891e+18\n",
      " -9.56127462e+17]\n"
     ]
    }
   ],
   "source": [
    "mlr = LinearRegression()\n",
    "mlr.fit(X_train, y_train)\n",
    "\n",
    "y_pred = mlr.predict(X_test)\n",
    "\n",
    "print('MLR score:', mlr.score(X_train, y_train), mlr.score(X_test, y_test))\n",
    "print('MLR intercept:', mlr.intercept_)\n",
    "print('MLR coeffs:', mlr.coef_)"
   ]
  },
  {
   "cell_type": "code",
   "execution_count": 24,
   "id": "0cb29eee-0d5a-4778-9844-3a0b93f64b12",
   "metadata": {},
   "outputs": [],
   "source": [
    "def rmse(model, X, y):\n",
    "    model_preds = model.predict(X)\n",
    "    return mean_squared_error(y, model_preds, squared=False)"
   ]
  },
  {
   "cell_type": "code",
   "execution_count": 25,
   "id": "7698a5f6-6f40-4908-bb45-09105374562c",
   "metadata": {},
   "outputs": [
    {
     "data": {
      "text/plain": [
       "(37009.332805174505, 1.424285942171944e+17)"
      ]
     },
     "execution_count": 25,
     "metadata": {},
     "output_type": "execute_result"
    }
   ],
   "source": [
    "rmse(mlr, X_train, y_train), rmse(mlr, X_test, y_test)"
   ]
  },
  {
   "cell_type": "code",
   "execution_count": 26,
   "id": "70626525-6384-4d07-8a43-6fbfae8d3c6e",
   "metadata": {},
   "outputs": [
    {
     "data": {
      "text/plain": [
       "(513, 9)"
      ]
     },
     "execution_count": 26,
     "metadata": {},
     "output_type": "execute_result"
    }
   ],
   "source": [
    "X_test.shape"
   ]
  },
  {
   "cell_type": "markdown",
   "id": "053fc0a6-0fd2-4dff-89d5-de044e24dd5e",
   "metadata": {},
   "source": [
    "## Visuals"
   ]
  },
  {
   "cell_type": "code",
   "execution_count": 30,
   "id": "8706b322-e1dc-406c-9f2b-c665e0419cf1",
   "metadata": {},
   "outputs": [
    {
     "data": {
      "image/png": "[encoded data removed]",
      "text/plain": [
       "<Figure size 432x288 with 1 Axes>"
      ]
     },
     "metadata": {},
     "output_type": "display_data"
    }
   ],
   "source": [
    "ax = sns.regplot(x = 'gr_liv_area',\n",
    "            y = 'sale_price', \n",
    "            ci = None,\n",
    "            data = train,\n",
    "            scatter_kws={\"color\": \"dodgerblue\"}, line_kws={\"color\": \"red\"})\n",
    "ax.set(xlabel='Gross Living Area',\n",
    "       ylabel='Sale Price',\n",
    "       title='Gross Living Area vs. Sale Price');\n",
    "\n",
    "sns.set(rc={'figure.figsize':(6,4)})"
   ]
  },
  {
   "cell_type": "code",
   "execution_count": 28,
   "id": "452bc273-49a8-4ce6-8646-de1bc1f9f963",
   "metadata": {},
   "outputs": [
    {
     "data": {
      "image/png": "[encoded data removed]",
      "text/plain": [
       "<Figure size 432x288 with 1 Axes>"
      ]
     },
     "metadata": {},
     "output_type": "display_data"
    }
   ],
   "source": [
    "ax = sns.regplot(x = 'overall_qual',\n",
    "            y = 'sale_price', \n",
    "            ci = None,\n",
    "            data = train,\n",
    "            scatter_kws={\"color\": \"dodgerblue\"}, line_kws={\"color\": \"red\"})\n",
    "ax.set(xlabel='Overall Quality of Home',\n",
    "       ylabel='Sale Price',\n",
    "       title='Overall Quality of Home vs. Sale Price');\n",
    "\n",
    "sns.set(rc={'figure.figsize':(6,4)})"
   ]
  },
  {
   "cell_type": "code",
   "execution_count": 29,
   "id": "31706e32-6150-4212-8428-5054f2449d6d",
   "metadata": {},
   "outputs": [
    {
     "data": {
      "image/png": "[encoded data removed]",
      "text/plain": [
       "<Figure size 432x288 with 1 Axes>"
      ]
     },
     "metadata": {},
     "output_type": "display_data"
    }
   ],
   "source": [
    "ax = sns.regplot(x = 'year_built',\n",
    "            y = 'sale_price', \n",
    "            ci = None,\n",
    "            data = train,\n",
    "            scatter_kws={\"color\": \"dodgerblue\"}, line_kws={\"color\": \"red\"})\n",
    "ax.set(xlabel='Year Home was Built',\n",
    "       ylabel='Sale Price',\n",
    "       title='Year Built of Home vs. Sale Price');\n",
    "\n",
    "sns.set(rc={'figure.figsize':(6,4)})"
   ]
  }
 ],
 "metadata": {
  "kernelspec": {
   "display_name": "Python 3 (ipykernel)",
   "language": "python",
   "name": "python3"
  },
  "language_info": {
   "codemirror_mode": {
    "name": "ipython",
    "version": 3
   },
   "file_extension": ".py",
   "mimetype": "text/x-python",
   "name": "python",
   "nbconvert_exporter": "python",
   "pygments_lexer": "ipython3",
   "version": "3.9.12"
  }
 },
 "nbformat": 4,
 "nbformat_minor": 5
}
