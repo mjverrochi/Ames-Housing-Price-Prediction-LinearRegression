{
 "cells": [
  {
   "cell_type": "code",
   "execution_count": 1,
   "id": "48f65a16-1b50-4833-849d-1f94b943f98f",
   "metadata": {},
   "outputs": [],
   "source": [
    "import pandas as pd\n",
    "import numpy as np\n",
    "import matplotlib.pyplot as plt\n",
    "from sklearn.linear_model import LinearRegression, Lasso, Ridge\n",
    "from sklearn.model_selection import train_test_split, cross_val_score, GridSearchCV\n",
    "from sklearn.metrics import mean_squared_error    # this is easier to explain to a non-tech. audience than r2\n",
    "from sklearn.preprocessing import StandardScaler, OneHotEncoder\n",
    "from ipywidgets import *\n",
    "from IPython.display import display\n",
    "import seaborn as sns"
   ]
  },
  {
   "cell_type": "code",
   "execution_count": 2,
   "id": "adc8df28-1001-43cb-bfc7-c3e5baabd302",
   "metadata": {},
   "outputs": [],
   "source": [
    "train = pd.read_csv('datasets/train.csv', keep_default_na=False, na_values=[''])\n",
    "train.isnull().sum().sort_values(ascending=False).head(10)\n",
    "test = pd.read_csv('datasets//test.csv')\n",
    "sample = pd.read_csv('datasets//sample_sub_reg.csv')"
   ]
  },
  {
   "cell_type": "markdown",
   "id": "2a593634-d187-4523-9477-8a96c63a2e78",
   "metadata": {},
   "source": [
    "# EDA AND DATA CLEANING"
   ]
  },
  {
   "cell_type": "markdown",
   "id": "c36f5f92-c2c9-48be-aff4-f93f4367f52a",
   "metadata": {},
   "source": [
    "Below we set the baseline score, which in this case is the average sale price of houses sold. It acts\n",
    "as a bench mark against predictions made."
   ]
  },
  {
   "cell_type": "code",
   "execution_count": 3,
   "id": "01cb19bd-fe1b-4a10-b187-67067afc1ba1",
   "metadata": {},
   "outputs": [],
   "source": [
    "train['baseline'] = train['SalePrice'].mean()"
   ]
  },
  {
   "cell_type": "code",
   "execution_count": 4,
   "id": "a924d8be-801d-4bc0-bd81-0b1b60415a2d",
   "metadata": {},
   "outputs": [
    {
     "data": {
      "text/plain": [
       "array(['1Fam', 'TwnhsE', 'Twnhs', '2fmCon', 'Duplex'], dtype=object)"
      ]
     },
     "execution_count": 4,
     "metadata": {},
     "output_type": "execute_result"
    }
   ],
   "source": [
    "train['Bldg Type'].unique()"
   ]
  },
  {
   "cell_type": "code",
   "execution_count": 5,
   "id": "d0d04e9d-944f-4067-9c32-0af6ad631e3c",
   "metadata": {},
   "outputs": [],
   "source": [
    "train = train.loc[train['Bldg Type'] == '1Fam']"
   ]
  },
  {
   "cell_type": "code",
   "execution_count": 6,
   "id": "929ae712-04e1-4f31-b2fa-5f80705e6c2b",
   "metadata": {},
   "outputs": [
    {
     "data": {
      "text/plain": [
       "(1700, 82)"
      ]
     },
     "execution_count": 6,
     "metadata": {},
     "output_type": "execute_result"
    }
   ],
   "source": [
    "train.shape"
   ]
  },
  {
   "cell_type": "code",
   "execution_count": 7,
   "id": "b756d80f-af77-4135-b622-e4b40c27d607",
   "metadata": {},
   "outputs": [],
   "source": [
    "train = train[train['Gr Liv Area'] < 4000]"
   ]
  },
  {
   "cell_type": "code",
   "execution_count": 8,
   "id": "be7fb6e8-af1f-4083-80de-d71449de262f",
   "metadata": {},
   "outputs": [
    {
     "data": {
      "text/plain": [
       "(1698, 82)"
      ]
     },
     "execution_count": 8,
     "metadata": {},
     "output_type": "execute_result"
    }
   ],
   "source": [
    "train.shape"
   ]
  },
  {
   "cell_type": "code",
   "execution_count": 9,
   "id": "fa3da6fb-bebf-486a-86bc-a1e6798a4210",
   "metadata": {},
   "outputs": [],
   "source": [
    "# train.info()"
   ]
  },
  {
   "cell_type": "code",
   "execution_count": 10,
   "id": "4987c313-553c-4893-a729-5dad36f9829a",
   "metadata": {},
   "outputs": [
    {
     "data": {
      "text/plain": [
       "Id                0\n",
       "PID               0\n",
       "MS SubClass       0\n",
       "MS Zoning         0\n",
       "Lot Frontage    285\n",
       "               ... \n",
       "Mo Sold           0\n",
       "Yr Sold           0\n",
       "Sale Type         0\n",
       "SalePrice         0\n",
       "baseline          0\n",
       "Length: 82, dtype: int64"
      ]
     },
     "execution_count": 10,
     "metadata": {},
     "output_type": "execute_result"
    }
   ],
   "source": [
    "train.isnull().sum()"
   ]
  },
  {
   "cell_type": "code",
   "execution_count": 11,
   "id": "69c4373a-a1df-42a6-918f-4f1ee57a1769",
   "metadata": {},
   "outputs": [
    {
     "data": {
      "text/plain": [
       "Id                int64\n",
       "PID               int64\n",
       "MS SubClass       int64\n",
       "MS Zoning        object\n",
       "Lot Frontage    float64\n",
       "                 ...   \n",
       "Mo Sold           int64\n",
       "Yr Sold           int64\n",
       "Sale Type        object\n",
       "SalePrice         int64\n",
       "baseline        float64\n",
       "Length: 82, dtype: object"
      ]
     },
     "execution_count": 11,
     "metadata": {},
     "output_type": "execute_result"
    }
   ],
   "source": [
    "train.dtypes"
   ]
  },
  {
   "cell_type": "code",
   "execution_count": 12,
   "id": "2daaee13-2b96-422e-a437-c31d4e89aa7e",
   "metadata": {},
   "outputs": [],
   "source": [
    "train.columns = [col.replace(' ', '_') for col in train.columns]"
   ]
  },
  {
   "cell_type": "code",
   "execution_count": 13,
   "id": "5467cde8-37c9-40ce-938e-4b17fac37ba3",
   "metadata": {},
   "outputs": [],
   "source": [
    "train.columns = train.columns.str.lower()"
   ]
  },
  {
   "cell_type": "code",
   "execution_count": 14,
   "id": "8dc2efd2-ba64-4a38-a179-716989d2f45a",
   "metadata": {},
   "outputs": [],
   "source": [
    "train.rename(columns={'saleprice': 'sale_price'}, inplace=True)"
   ]
  },
  {
   "cell_type": "markdown",
   "id": "e146e0fb-2c01-4b5a-9959-ceecd344e7a5",
   "metadata": {},
   "source": [
    "#### Looked at correlation of total baths to sale price, but decided not to use that feature"
   ]
  },
  {
   "cell_type": "code",
   "execution_count": 15,
   "id": "65a5cdd3-28f8-4802-bd5a-59ca5aa78cf6",
   "metadata": {},
   "outputs": [],
   "source": [
    "train['total_bath'] = train['full_bath'] + train['half_bath']"
   ]
  },
  {
   "cell_type": "markdown",
   "id": "45f67c87-a3dd-4f23-8589-cca9a2f19ae3",
   "metadata": {},
   "source": [
    "#### Looked at correlation of central air to sale price, but decided not to use that feature"
   ]
  },
  {
   "cell_type": "code",
   "execution_count": 16,
   "id": "39a4affb-31c7-46b5-ae67-a9c87224eb00",
   "metadata": {},
   "outputs": [],
   "source": [
    "train.central_air = train.central_air.apply(lambda x: 0 if x.strip()=='N' else 1)"
   ]
  },
  {
   "cell_type": "code",
   "execution_count": 17,
   "id": "f5ab886f-e14b-4b38-9eff-528611046ed8",
   "metadata": {},
   "outputs": [
    {
     "data": {
      "text/plain": [
       "array([1, 0], dtype=int64)"
      ]
     },
     "execution_count": 17,
     "metadata": {},
     "output_type": "execute_result"
    }
   ],
   "source": [
    "train.central_air.unique()"
   ]
  },
  {
   "cell_type": "code",
   "execution_count": 18,
   "id": "df1f167e-9cc9-45bc-a6ed-a443c23ee7d7",
   "metadata": {},
   "outputs": [],
   "source": [
    "features = [\n",
    "    'gr_liv_area', \n",
    "    'overall_qual', \n",
    "    'year_built',\n",
    "    'ms_zoning'\n",
    "]"
   ]
  },
  {
   "cell_type": "code",
   "execution_count": 19,
   "id": "9a0b3f6a-16f0-438f-8399-6b22534ec061",
   "metadata": {},
   "outputs": [
    {
     "data": {
      "text/plain": [
       "gr_liv_area     0\n",
       "overall_qual    0\n",
       "year_built      0\n",
       "ms_zoning       0\n",
       "dtype: int64"
      ]
     },
     "execution_count": 19,
     "metadata": {},
     "output_type": "execute_result"
    }
   ],
   "source": [
    "train[features].isnull().sum()"
   ]
  },
  {
   "cell_type": "code",
   "execution_count": 20,
   "id": "d4ae143e-1002-4418-99de-500476f1533f",
   "metadata": {},
   "outputs": [],
   "source": [
    "X = train[features]\n",
    "y = train['sale_price']\n",
    "\n",
    "X_train, X_test, y_train, y_test = train_test_split(X, y, random_state=42)"
   ]
  },
  {
   "cell_type": "markdown",
   "id": "47e3f0e9-a1a2-4f54-bf96-7ff8afd00705",
   "metadata": {},
   "source": [
    "#### Filling Missing Values"
   ]
  },
  {
   "cell_type": "code",
   "execution_count": 21,
   "id": "fe5f268d-a5b3-4e88-a96e-1581c936d686",
   "metadata": {},
   "outputs": [],
   "source": [
    "# all features used had 0 missing values, so didn't fill values\n",
    "# would have used:\n",
    "\n",
    "# train['column'].fillna(0, inplace=True)\n",
    "\n",
    "# OR\n",
    "\n",
    "# si = SimpleImputer()\n",
    "\n",
    "# si.fit(X_train[['column']])\n",
    "\n",
    "# X_train['column'] = si.transform(X_train[['column']])\n",
    "# X_test['column'] = si.transform(X_test[['column']])"
   ]
  },
  {
   "cell_type": "markdown",
   "id": "b580e7b3-06e5-42f4-91a5-ac87c84237ce",
   "metadata": {},
   "source": [
    "## First Visual\n",
    "- *put this here to capture this plot before data is changed"
   ]
  },
  {
   "cell_type": "code",
   "execution_count": 22,
   "id": "28cf54d7-ae76-4383-a891-c9d0de6d41e8",
   "metadata": {},
   "outputs": [
    {
     "data": {
      "image/png": "[encoded data removed]",
      "text/plain": [
       "<Figure size 432x288 with 1 Axes>"
      ]
     },
     "metadata": {
      "needs_background": "light"
     },
     "output_type": "display_data"
    }
   ],
   "source": [
    "fig, ax = plt.subplots(figsize=(6, 4))\n",
    "ax.scatter(X_train.ms_zoning, y_train)\n",
    "\n",
    "ax.set_xlabel('Square Footage of Home')\n",
    "ax.set_ylabel('Sold at Price of Home')\n",
    "ax.set_title('Zoning Classification vs. Sale Price');"
   ]
  },
  {
   "cell_type": "markdown",
   "id": "000b2356-53bb-4b97-a08b-1aade20d2e02",
   "metadata": {},
   "source": [
    "#### Encoding Categorical Features"
   ]
  },
  {
   "cell_type": "code",
   "execution_count": 23,
   "id": "a63f87f8-e56b-4a58-bed0-481c6f2748ff",
   "metadata": {},
   "outputs": [
    {
     "data": {
      "text/plain": [
       "RL         1057\n",
       "RM          157\n",
       "FV           39\n",
       "C (all)      13\n",
       "RH            4\n",
       "A (agr)       2\n",
       "I (all)       1\n",
       "Name: ms_zoning, dtype: int64"
      ]
     },
     "execution_count": 23,
     "metadata": {},
     "output_type": "execute_result"
    }
   ],
   "source": [
    "X_train.ms_zoning.value_counts()"
   ]
  },
  {
   "cell_type": "code",
   "execution_count": 24,
   "id": "b6796dc9-5753-4702-baf5-f02d4f625d65",
   "metadata": {},
   "outputs": [
    {
     "data": {
      "text/plain": [
       "(array(['RL', 'RM', 'FV', 'C (all)', 'RH', 'A (agr)', 'I (all)'],\n",
       "       dtype=object),\n",
       " array(['RL', 'RM', 'FV', 'C (all)', 'RH'], dtype=object))"
      ]
     },
     "execution_count": 24,
     "metadata": {},
     "output_type": "execute_result"
    }
   ],
   "source": [
    "X_train['ms_zoning'].unique(), X_test['ms_zoning'].unique()"
   ]
  },
  {
   "cell_type": "code",
   "execution_count": 25,
   "id": "d59019d1-800f-4dac-a73f-fb9758a3e689",
   "metadata": {},
   "outputs": [
    {
     "data": {
      "text/plain": [
       "gr_liv_area      int64\n",
       "overall_qual     int64\n",
       "year_built       int64\n",
       "ms_zoning       object\n",
       "dtype: object"
      ]
     },
     "execution_count": 25,
     "metadata": {},
     "output_type": "execute_result"
    }
   ],
   "source": [
    "X_train.dtypes"
   ]
  },
  {
   "cell_type": "code",
   "execution_count": 26,
   "id": "0d4898ca-0c6a-4494-955e-a98a8294ce7f",
   "metadata": {},
   "outputs": [
    {
     "data": {
      "text/plain": [
       "OneHotEncoder(handle_unknown='ignore')"
      ]
     },
     "execution_count": 26,
     "metadata": {},
     "output_type": "execute_result"
    }
   ],
   "source": [
    "ohe = OneHotEncoder(handle_unknown='ignore')\n",
    "ohe.fit(X_train[['ms_zoning']])"
   ]
  },
  {
   "cell_type": "code",
   "execution_count": 27,
   "id": "0ad77b68-2a05-4d01-8b57-f03549d63b5d",
   "metadata": {},
   "outputs": [
    {
     "data": {
      "text/plain": [
       "array(['ms_zoning_A (agr)', 'ms_zoning_C (all)', 'ms_zoning_FV',\n",
       "       'ms_zoning_I (all)', 'ms_zoning_RH', 'ms_zoning_RL',\n",
       "       'ms_zoning_RM'], dtype=object)"
      ]
     },
     "execution_count": 27,
     "metadata": {},
     "output_type": "execute_result"
    }
   ],
   "source": [
    "ohe.get_feature_names_out()"
   ]
  },
  {
   "cell_type": "code",
   "execution_count": 28,
   "id": "56fcebcb-22bf-4414-b850-7e7deca44232",
   "metadata": {},
   "outputs": [
    {
     "data": {
      "text/html": [
       "<div>\n",
       "<style scoped>\n",
       "    .dataframe tbody tr th:only-of-type {\n",
       "        vertical-align: middle;\n",
       "    }\n",
       "\n",
       "    .dataframe tbody tr th {\n",
       "        vertical-align: top;\n",
       "    }\n",
       "\n",
       "    .dataframe thead th {\n",
       "        text-align: right;\n",
       "    }\n",
       "</style>\n",
       "<table border=\"1\" class=\"dataframe\">\n",
       "  <thead>\n",
       "    <tr style=\"text-align: right;\">\n",
       "      <th></th>\n",
       "      <th>ms_zoning_A (agr)</th>\n",
       "      <th>ms_zoning_C (all)</th>\n",
       "      <th>ms_zoning_FV</th>\n",
       "      <th>ms_zoning_I (all)</th>\n",
       "      <th>ms_zoning_RH</th>\n",
       "      <th>ms_zoning_RL</th>\n",
       "      <th>ms_zoning_RM</th>\n",
       "    </tr>\n",
       "  </thead>\n",
       "  <tbody>\n",
       "    <tr>\n",
       "      <th>256</th>\n",
       "      <td>0.0</td>\n",
       "      <td>0.0</td>\n",
       "      <td>0.0</td>\n",
       "      <td>0.0</td>\n",
       "      <td>0.0</td>\n",
       "      <td>1.0</td>\n",
       "      <td>0.0</td>\n",
       "    </tr>\n",
       "    <tr>\n",
       "      <th>1360</th>\n",
       "      <td>0.0</td>\n",
       "      <td>0.0</td>\n",
       "      <td>0.0</td>\n",
       "      <td>0.0</td>\n",
       "      <td>0.0</td>\n",
       "      <td>1.0</td>\n",
       "      <td>0.0</td>\n",
       "    </tr>\n",
       "    <tr>\n",
       "      <th>1717</th>\n",
       "      <td>0.0</td>\n",
       "      <td>0.0</td>\n",
       "      <td>0.0</td>\n",
       "      <td>0.0</td>\n",
       "      <td>0.0</td>\n",
       "      <td>1.0</td>\n",
       "      <td>0.0</td>\n",
       "    </tr>\n",
       "  </tbody>\n",
       "</table>\n",
       "</div>"
      ],
      "text/plain": [
       "      ms_zoning_A (agr)  ms_zoning_C (all)  ms_zoning_FV  ms_zoning_I (all)  \\\n",
       "256                 0.0                0.0           0.0                0.0   \n",
       "1360                0.0                0.0           0.0                0.0   \n",
       "1717                0.0                0.0           0.0                0.0   \n",
       "\n",
       "      ms_zoning_RH  ms_zoning_RL  ms_zoning_RM  \n",
       "256            0.0           1.0           0.0  \n",
       "1360           0.0           1.0           0.0  \n",
       "1717           0.0           1.0           0.0  "
      ]
     },
     "execution_count": 28,
     "metadata": {},
     "output_type": "execute_result"
    }
   ],
   "source": [
    "train_ohe = pd.DataFrame(\n",
    "    ohe.transform(X_train[['ms_zoning']]).todense(),\n",
    "    columns = ohe.get_feature_names_out(),\n",
    "    index = X_train.index\n",
    ")\n",
    "\n",
    "train_ohe.head(3)"
   ]
  },
  {
   "cell_type": "code",
   "execution_count": 29,
   "id": "23c2e817-f88f-43f1-9a81-b5980ec6c9c5",
   "metadata": {},
   "outputs": [],
   "source": [
    "test_ohe = pd.DataFrame(\n",
    "    ohe.transform(X_test[['ms_zoning']]).todense(),\n",
    "    columns = ohe.get_feature_names_out(),\n",
    "    index = X_test.index\n",
    ")"
   ]
  },
  {
   "cell_type": "code",
   "execution_count": 30,
   "id": "96125e58-a6d1-47c4-92de-9209cedde038",
   "metadata": {},
   "outputs": [
    {
     "data": {
      "text/html": [
       "<div>\n",
       "<style scoped>\n",
       "    .dataframe tbody tr th:only-of-type {\n",
       "        vertical-align: middle;\n",
       "    }\n",
       "\n",
       "    .dataframe tbody tr th {\n",
       "        vertical-align: top;\n",
       "    }\n",
       "\n",
       "    .dataframe thead th {\n",
       "        text-align: right;\n",
       "    }\n",
       "</style>\n",
       "<table border=\"1\" class=\"dataframe\">\n",
       "  <thead>\n",
       "    <tr style=\"text-align: right;\">\n",
       "      <th></th>\n",
       "      <th>gr_liv_area</th>\n",
       "      <th>overall_qual</th>\n",
       "      <th>year_built</th>\n",
       "      <th>ms_zoning_A (agr)</th>\n",
       "      <th>ms_zoning_C (all)</th>\n",
       "      <th>ms_zoning_FV</th>\n",
       "      <th>ms_zoning_I (all)</th>\n",
       "      <th>ms_zoning_RH</th>\n",
       "      <th>ms_zoning_RL</th>\n",
       "      <th>ms_zoning_RM</th>\n",
       "    </tr>\n",
       "  </thead>\n",
       "  <tbody>\n",
       "    <tr>\n",
       "      <th>256</th>\n",
       "      <td>1124</td>\n",
       "      <td>5</td>\n",
       "      <td>1954</td>\n",
       "      <td>0.0</td>\n",
       "      <td>0.0</td>\n",
       "      <td>0.0</td>\n",
       "      <td>0.0</td>\n",
       "      <td>0.0</td>\n",
       "      <td>1.0</td>\n",
       "      <td>0.0</td>\n",
       "    </tr>\n",
       "    <tr>\n",
       "      <th>1360</th>\n",
       "      <td>2009</td>\n",
       "      <td>6</td>\n",
       "      <td>1928</td>\n",
       "      <td>0.0</td>\n",
       "      <td>0.0</td>\n",
       "      <td>0.0</td>\n",
       "      <td>0.0</td>\n",
       "      <td>0.0</td>\n",
       "      <td>1.0</td>\n",
       "      <td>0.0</td>\n",
       "    </tr>\n",
       "    <tr>\n",
       "      <th>1717</th>\n",
       "      <td>1934</td>\n",
       "      <td>5</td>\n",
       "      <td>1977</td>\n",
       "      <td>0.0</td>\n",
       "      <td>0.0</td>\n",
       "      <td>0.0</td>\n",
       "      <td>0.0</td>\n",
       "      <td>0.0</td>\n",
       "      <td>1.0</td>\n",
       "      <td>0.0</td>\n",
       "    </tr>\n",
       "  </tbody>\n",
       "</table>\n",
       "</div>"
      ],
      "text/plain": [
       "      gr_liv_area  overall_qual  year_built  ms_zoning_A (agr)  \\\n",
       "256          1124             5        1954                0.0   \n",
       "1360         2009             6        1928                0.0   \n",
       "1717         1934             5        1977                0.0   \n",
       "\n",
       "      ms_zoning_C (all)  ms_zoning_FV  ms_zoning_I (all)  ms_zoning_RH  \\\n",
       "256                 0.0           0.0                0.0           0.0   \n",
       "1360                0.0           0.0                0.0           0.0   \n",
       "1717                0.0           0.0                0.0           0.0   \n",
       "\n",
       "      ms_zoning_RL  ms_zoning_RM  \n",
       "256            1.0           0.0  \n",
       "1360           1.0           0.0  \n",
       "1717           1.0           0.0  "
      ]
     },
     "execution_count": 30,
     "metadata": {},
     "output_type": "execute_result"
    }
   ],
   "source": [
    "X_train = pd.concat(\n",
    "    [X_train.drop(columns=['ms_zoning']), train_ohe],\n",
    "    axis=1\n",
    ")\n",
    "\n",
    "X_train.head(3)"
   ]
  },
  {
   "cell_type": "code",
   "execution_count": 31,
   "id": "813f88bc-0e24-4997-b7fb-f2a6bd80834a",
   "metadata": {},
   "outputs": [],
   "source": [
    "X_test = pd.concat(\n",
    "    [X_test.drop(columns=['ms_zoning']), test_ohe],\n",
    "    axis=1\n",
    ")"
   ]
  },
  {
   "cell_type": "code",
   "execution_count": 32,
   "id": "3ecd360a-b778-4213-a244-40d430b36267",
   "metadata": {},
   "outputs": [
    {
     "data": {
      "text/html": [
       "<div>\n",
       "<style scoped>\n",
       "    .dataframe tbody tr th:only-of-type {\n",
       "        vertical-align: middle;\n",
       "    }\n",
       "\n",
       "    .dataframe tbody tr th {\n",
       "        vertical-align: top;\n",
       "    }\n",
       "\n",
       "    .dataframe thead th {\n",
       "        text-align: right;\n",
       "    }\n",
       "</style>\n",
       "<table border=\"1\" class=\"dataframe\">\n",
       "  <thead>\n",
       "    <tr style=\"text-align: right;\">\n",
       "      <th></th>\n",
       "      <th>gr_liv_area</th>\n",
       "      <th>overall_qual</th>\n",
       "      <th>year_built</th>\n",
       "      <th>ms_zoning_A (agr)</th>\n",
       "      <th>ms_zoning_C (all)</th>\n",
       "      <th>ms_zoning_FV</th>\n",
       "      <th>ms_zoning_I (all)</th>\n",
       "      <th>ms_zoning_RH</th>\n",
       "      <th>ms_zoning_RL</th>\n",
       "      <th>ms_zoning_RM</th>\n",
       "    </tr>\n",
       "  </thead>\n",
       "  <tbody>\n",
       "    <tr>\n",
       "      <th>757</th>\n",
       "      <td>1253</td>\n",
       "      <td>6</td>\n",
       "      <td>1960</td>\n",
       "      <td>0.0</td>\n",
       "      <td>0.0</td>\n",
       "      <td>0.0</td>\n",
       "      <td>0.0</td>\n",
       "      <td>0.0</td>\n",
       "      <td>1.0</td>\n",
       "      <td>0.0</td>\n",
       "    </tr>\n",
       "    <tr>\n",
       "      <th>146</th>\n",
       "      <td>1922</td>\n",
       "      <td>7</td>\n",
       "      <td>2003</td>\n",
       "      <td>0.0</td>\n",
       "      <td>0.0</td>\n",
       "      <td>0.0</td>\n",
       "      <td>0.0</td>\n",
       "      <td>0.0</td>\n",
       "      <td>1.0</td>\n",
       "      <td>0.0</td>\n",
       "    </tr>\n",
       "    <tr>\n",
       "      <th>173</th>\n",
       "      <td>1644</td>\n",
       "      <td>5</td>\n",
       "      <td>1942</td>\n",
       "      <td>0.0</td>\n",
       "      <td>0.0</td>\n",
       "      <td>0.0</td>\n",
       "      <td>0.0</td>\n",
       "      <td>0.0</td>\n",
       "      <td>1.0</td>\n",
       "      <td>0.0</td>\n",
       "    </tr>\n",
       "  </tbody>\n",
       "</table>\n",
       "</div>"
      ],
      "text/plain": [
       "     gr_liv_area  overall_qual  year_built  ms_zoning_A (agr)  \\\n",
       "757         1253             6        1960                0.0   \n",
       "146         1922             7        2003                0.0   \n",
       "173         1644             5        1942                0.0   \n",
       "\n",
       "     ms_zoning_C (all)  ms_zoning_FV  ms_zoning_I (all)  ms_zoning_RH  \\\n",
       "757                0.0           0.0                0.0           0.0   \n",
       "146                0.0           0.0                0.0           0.0   \n",
       "173                0.0           0.0                0.0           0.0   \n",
       "\n",
       "     ms_zoning_RL  ms_zoning_RM  \n",
       "757           1.0           0.0  \n",
       "146           1.0           0.0  \n",
       "173           1.0           0.0  "
      ]
     },
     "execution_count": 32,
     "metadata": {},
     "output_type": "execute_result"
    }
   ],
   "source": [
    "X_test.head(3)"
   ]
  },
  {
   "cell_type": "markdown",
   "id": "35290908-2212-4eb4-bef7-28c75bc6df60",
   "metadata": {},
   "source": [
    "## Scaling"
   ]
  },
  {
   "cell_type": "code",
   "execution_count": 33,
   "id": "d956a0e7-3aa8-41c1-b6da-83f89f25a111",
   "metadata": {},
   "outputs": [
    {
     "name": "stdout",
     "output_type": "stream",
     "text": [
      "StandardScaler()\n"
     ]
    }
   ],
   "source": [
    "ss = StandardScaler()\n",
    "print(ss.fit(X_train))"
   ]
  },
  {
   "cell_type": "code",
   "execution_count": 34,
   "id": "89e988fa-f27d-4ab4-acde-e88f1d299198",
   "metadata": {},
   "outputs": [],
   "source": [
    "X_train = pd.DataFrame(ss.transform(X_train), columns=X_train.columns)"
   ]
  },
  {
   "cell_type": "code",
   "execution_count": 35,
   "id": "ccaa6d7a-e0ff-4977-b940-619bacbc1839",
   "metadata": {},
   "outputs": [
    {
     "name": "stdout",
     "output_type": "stream",
     "text": [
      "StandardScaler()\n"
     ]
    }
   ],
   "source": [
    "ss = StandardScaler()\n",
    "print(ss.fit(X_test))"
   ]
  },
  {
   "cell_type": "code",
   "execution_count": 36,
   "id": "606fee26-bb40-4572-91a6-193017394a06",
   "metadata": {},
   "outputs": [],
   "source": [
    "X_test = pd.DataFrame(ss.transform(X_test), columns=X_test.columns)"
   ]
  },
  {
   "cell_type": "markdown",
   "id": "86fe215b-457f-4def-a39a-d372e29ee885",
   "metadata": {},
   "source": [
    "# Modeling"
   ]
  },
  {
   "cell_type": "markdown",
   "id": "a5a43d42-266a-42f7-b04c-c2674ce4d2a2",
   "metadata": {},
   "source": [
    "## Linear Regression"
   ]
  },
  {
   "cell_type": "code",
   "execution_count": 37,
   "id": "1660cc57-5a4b-445e-b10b-8df2dd3433fc",
   "metadata": {},
   "outputs": [
    {
     "data": {
      "text/plain": [
       "4"
      ]
     },
     "execution_count": 37,
     "metadata": {},
     "output_type": "execute_result"
    }
   ],
   "source": [
    "len(train_test_split(X, y,\n",
    "                train_size=0.8, \n",
    "                random_state=123))"
   ]
  },
  {
   "cell_type": "code",
   "execution_count": 38,
   "id": "5278a51d-b4ff-4062-bdd1-b1bc6e440ed3",
   "metadata": {},
   "outputs": [
    {
     "name": "stdout",
     "output_type": "stream",
     "text": [
      "MLR score: 0.8004366148902161 0.7611580407516053\n",
      "MLR intercept: 183157.90887666927\n",
      "MLR coeffs: [33264.37266593 35769.42383236 13869.76959958  1022.8970655\n",
      "   458.04035858   227.7421462   1486.78106151   -86.06879426\n",
      "  1651.98932707 -2380.41901956]\n"
     ]
    }
   ],
   "source": [
    "mlr = LinearRegression()\n",
    "mlr.fit(X_train, y_train)\n",
    "\n",
    "y_pred = mlr.predict(X_test)\n",
    "\n",
    "print('MLR score:', mlr.score(X_train, y_train), mlr.score(X_test, y_test))\n",
    "print('MLR intercept:', mlr.intercept_)\n",
    "print('MLR coeffs:', mlr.coef_)"
   ]
  },
  {
   "cell_type": "code",
   "execution_count": 39,
   "id": "851bc259-a78f-4ed0-b8df-60b8e869fc4c",
   "metadata": {},
   "outputs": [
    {
     "data": {
      "text/plain": [
       "(0.8004366148902161, 0.7611580407516053)"
      ]
     },
     "execution_count": 39,
     "metadata": {},
     "output_type": "execute_result"
    }
   ],
   "source": [
    "mlr.score(X_train, y_train), mlr.score(X_test, y_test)"
   ]
  },
  {
   "cell_type": "code",
   "execution_count": 40,
   "id": "bb0c7cf1-297e-4897-8357-51b639c505c8",
   "metadata": {},
   "outputs": [],
   "source": [
    "def rmse(model, X, y):\n",
    "    model_preds = model.predict(X)\n",
    "    return mean_squared_error(y, model_preds, squared=False)"
   ]
  },
  {
   "cell_type": "code",
   "execution_count": 41,
   "id": "1f921e28-1301-4470-be5b-c0494c4c5ecb",
   "metadata": {},
   "outputs": [
    {
     "data": {
      "text/plain": [
       "(35563.740447115466, 43116.19988453238)"
      ]
     },
     "execution_count": 41,
     "metadata": {},
     "output_type": "execute_result"
    }
   ],
   "source": [
    "rmse(mlr, X_train, y_train), rmse(mlr, X_test, y_test)"
   ]
  },
  {
   "cell_type": "code",
   "execution_count": 42,
   "id": "4c5794dc-48e1-4a94-b7eb-770c13654a67",
   "metadata": {},
   "outputs": [
    {
     "data": {
      "text/plain": [
       "array([0.77494964, 0.8055612 , 0.80516578, 0.79348939, 0.80489665])"
      ]
     },
     "execution_count": 42,
     "metadata": {},
     "output_type": "execute_result"
    }
   ],
   "source": [
    "cross_val_score(mlr, X_train, y_train)"
   ]
  },
  {
   "cell_type": "markdown",
   "id": "78835bf2-df91-451e-8326-08e99c52eba6",
   "metadata": {},
   "source": [
    "# Lasso"
   ]
  },
  {
   "cell_type": "code",
   "execution_count": 43,
   "id": "afb8b7a3-84d7-4818-b867-ecb1d019a15b",
   "metadata": {},
   "outputs": [],
   "source": [
    "ss = StandardScaler()\n",
    "X_train_ss = ss.fit_transform(X_train)\n",
    "X_test_ss = ss.transform(X_test)"
   ]
  },
  {
   "cell_type": "code",
   "execution_count": 44,
   "id": "f8ff419b-f5b3-4e0d-be29-c964d00667bc",
   "metadata": {},
   "outputs": [
    {
     "data": {
      "text/plain": [
       "Lasso(alpha=100)"
      ]
     },
     "execution_count": 44,
     "metadata": {},
     "output_type": "execute_result"
    }
   ],
   "source": [
    "lasso = Lasso(alpha=100)\n",
    "lasso.fit(X_train_ss, y_train)"
   ]
  },
  {
   "cell_type": "code",
   "execution_count": 45,
   "id": "0869e67d-e1ed-44ec-b9fa-2e84d34276b4",
   "metadata": {},
   "outputs": [
    {
     "name": "stdout",
     "output_type": "stream",
     "text": [
      "0.8004243370564069 0.7607969042182589\n"
     ]
    },
    {
     "data": {
      "text/plain": [
       "(35564.834432815354, 43148.7840953517)"
      ]
     },
     "execution_count": 45,
     "metadata": {},
     "output_type": "execute_result"
    }
   ],
   "source": [
    "print(lasso.score(X_train_ss, y_train), lasso.score(X_test_ss, y_test))\n",
    "rmse(lasso, X_train_ss, y_train), rmse(lasso, X_test_ss, y_test)"
   ]
  },
  {
   "cell_type": "code",
   "execution_count": 46,
   "id": "debac975-2d7a-4600-b902-78ebf1d2754f",
   "metadata": {},
   "outputs": [
    {
     "data": {
      "text/plain": [
       "array([0.77494964, 0.8055612 , 0.80516578, 0.79348939, 0.80489665])"
      ]
     },
     "execution_count": 46,
     "metadata": {},
     "output_type": "execute_result"
    }
   ],
   "source": [
    "cross_val_score(mlr, X_train_ss, y_train)"
   ]
  },
  {
   "cell_type": "markdown",
   "id": "1c6a0d20-e828-45ef-831e-397d311afc1d",
   "metadata": {},
   "source": [
    "# Ridge"
   ]
  },
  {
   "cell_type": "code",
   "execution_count": 47,
   "id": "c0ccb639-6d5f-4539-b2ef-7432d62ba9dd",
   "metadata": {},
   "outputs": [
    {
     "data": {
      "text/plain": [
       "Ridge(alpha=100)"
      ]
     },
     "execution_count": 47,
     "metadata": {},
     "output_type": "execute_result"
    }
   ],
   "source": [
    "ridge = Ridge(alpha=100)\n",
    "ridge.fit(X_train_ss, y_train)"
   ]
  },
  {
   "cell_type": "code",
   "execution_count": 48,
   "id": "9588f854-f812-4a7d-82ad-5de0374b5de7",
   "metadata": {},
   "outputs": [
    {
     "name": "stdout",
     "output_type": "stream",
     "text": [
      "0.7990385624254621 0.7562499363939346\n"
     ]
    },
    {
     "data": {
      "text/plain": [
       "(35688.094921342214, 43556.95717079978)"
      ]
     },
     "execution_count": 48,
     "metadata": {},
     "output_type": "execute_result"
    }
   ],
   "source": [
    "print(ridge.score(X_train_ss, y_train), ridge.score(X_test_ss, y_test))\n",
    "rmse(ridge, X_train_ss, y_train), rmse(ridge, X_test_ss, y_test)"
   ]
  },
  {
   "cell_type": "code",
   "execution_count": 49,
   "id": "63621830-104b-4a1a-9918-9a288612a8f7",
   "metadata": {},
   "outputs": [
    {
     "data": {
      "text/plain": [
       "array([0.77494964, 0.8055612 , 0.80516578, 0.79348939, 0.80489665])"
      ]
     },
     "execution_count": 49,
     "metadata": {},
     "output_type": "execute_result"
    }
   ],
   "source": [
    "cross_val_score(mlr, X_train_ss, y_train)"
   ]
  },
  {
   "cell_type": "markdown",
   "id": "75317ab9-5a7f-475a-acb8-1845593ce29f",
   "metadata": {},
   "source": [
    "# Visuals"
   ]
  },
  {
   "cell_type": "code",
   "execution_count": 50,
   "id": "c9235512-73e8-4ece-8bd9-ab02550fc33c",
   "metadata": {},
   "outputs": [],
   "source": [
    "# Set size of visuals from below link:\n",
    "# https://stackoverflow.com/questions/31594549/how-to-change-the-figure-size-of-a-seaborn-axes-or-figure-level-plot"
   ]
  },
  {
   "cell_type": "code",
   "execution_count": 54,
   "id": "a3592241-6da9-4ae4-8701-f321cbc23c2d",
   "metadata": {},
   "outputs": [
    {
     "data": {
      "image/png": "[encoded data removed]",
      "text/plain": [
       "<Figure size 432x288 with 1 Axes>"
      ]
     },
     "metadata": {},
     "output_type": "display_data"
    }
   ],
   "source": [
    "ax = sns.regplot(x = 'gr_liv_area',\n",
    "            y = 'sale_price', \n",
    "            ci = None,\n",
    "            data = train,\n",
    "            scatter_kws={\"color\": \"dodgerblue\"}, line_kws={\"color\": \"red\"})\n",
    "ax.set(xlabel='Gross Living Area',\n",
    "       ylabel='Sale Price',\n",
    "       title='Gross Living Area vs. Sale Price');\n",
    "\n",
    "sns.set(rc={'figure.figsize':(6,4)})"
   ]
  },
  {
   "cell_type": "code",
   "execution_count": 52,
   "id": "3d7992d4-17ee-4a99-8a20-a81355cdc0a0",
   "metadata": {},
   "outputs": [
    {
     "data": {
      "image/png": "[encoded data removed]",
      "text/plain": [
       "<Figure size 432x288 with 1 Axes>"
      ]
     },
     "metadata": {},
     "output_type": "display_data"
    }
   ],
   "source": [
    "ax = sns.regplot(x = 'overall_qual',\n",
    "            y = 'sale_price', \n",
    "            ci = None,\n",
    "            data = train,\n",
    "            scatter_kws={\"color\": \"dodgerblue\"}, line_kws={\"color\": \"red\"})\n",
    "ax.set(xlabel='Overall Quality of Home',\n",
    "       ylabel='Sale Price',\n",
    "       title='Overall Quality of Home vs. Sale Price');\n",
    "\n",
    "sns.set(rc={'figure.figsize':(6,4)})"
   ]
  },
  {
   "cell_type": "code",
   "execution_count": 53,
   "id": "2b45a89a-8fd2-4553-a3e3-7522e48bd31a",
   "metadata": {},
   "outputs": [
    {
     "data": {
      "image/png": "[encoded data removed]",
      "text/plain": [
       "<Figure size 432x288 with 1 Axes>"
      ]
     },
     "metadata": {},
     "output_type": "display_data"
    }
   ],
   "source": [
    "ax = sns.regplot(x = 'year_built',\n",
    "            y = 'sale_price', \n",
    "            ci = None,\n",
    "            data = train,\n",
    "            scatter_kws={\"color\": \"dodgerblue\"}, line_kws={\"color\": \"red\"})\n",
    "ax.set(xlabel='Year Home was Built',\n",
    "       ylabel='Sale Price',\n",
    "       title='Year Built of Home vs. Sale Price');\n",
    "\n",
    "sns.set(rc={'figure.figsize':(6,4)})"
   ]
  }
 ],
 "metadata": {
  "kernelspec": {
   "display_name": "Python 3 (ipykernel)",
   "language": "python",
   "name": "python3"
  },
  "language_info": {
   "codemirror_mode": {
    "name": "ipython",
    "version": 3
   },
   "file_extension": ".py",
   "mimetype": "text/x-python",
   "name": "python",
   "nbconvert_exporter": "python",
   "pygments_lexer": "ipython3",
   "version": "3.9.12"
  }
 },
 "nbformat": 4,
 "nbformat_minor": 5
}
