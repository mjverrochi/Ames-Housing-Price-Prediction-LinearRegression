{
 "cells": [
  {
   "cell_type": "code",
   "execution_count": 1,
   "id": "35420c84-b9fb-4752-a29a-8e83322aa8f6",
   "metadata": {},
   "outputs": [],
   "source": [
    "import pandas as pd\n",
    "import numpy as np\n",
    "import matplotlib.pyplot as plt\n",
    "from sklearn.linear_model import LinearRegression, Lasso, Ridge\n",
    "from sklearn.model_selection import train_test_split\n",
    "from sklearn.metrics import mean_squared_error"
   ]
  },
  {
   "cell_type": "code",
   "execution_count": 2,
   "id": "549381a9-9e8e-4c44-a368-8cda7a817b48",
   "metadata": {},
   "outputs": [],
   "source": [
    "train = pd.read_csv('datasets/train.csv', keep_default_na=False, na_values=[''])\n",
    "train.isnull().sum().sort_values(ascending=False).head(10)\n",
    "kaggle = pd.read_csv('datasets/test.csv', keep_default_na=False, na_values=['']) # test dataset\n",
    "sample = pd.read_csv('datasets//sample_sub_reg.csv')"
   ]
  },
  {
   "cell_type": "code",
   "execution_count": 3,
   "id": "2f6b2ace-6858-45b4-8f57-476a9f1b9b74",
   "metadata": {},
   "outputs": [],
   "source": [
    "train['baseline'] = train['SalePrice'].mean()"
   ]
  },
  {
   "cell_type": "code",
   "execution_count": null,
   "id": "cc59f948-d9cf-4e11-8d63-a21815839d30",
   "metadata": {},
   "outputs": [],
   "source": []
  },
  {
   "cell_type": "code",
   "execution_count": 4,
   "id": "6a6a7eae-c7e9-4179-8a1a-1655bdda2da7",
   "metadata": {},
   "outputs": [],
   "source": [
    "train.columns = [col.replace(' ', '_') for col in train.columns]"
   ]
  },
  {
   "cell_type": "code",
   "execution_count": 5,
   "id": "79c8ca33-386a-4518-9366-0f7fb59e12a9",
   "metadata": {},
   "outputs": [],
   "source": [
    "train.columns = train.columns.str.lower()"
   ]
  },
  {
   "cell_type": "code",
   "execution_count": 6,
   "id": "9db4385d-81d3-430a-bd37-d41c87dd3782",
   "metadata": {},
   "outputs": [],
   "source": [
    "train.rename(columns={'saleprice': 'sale_price'}, inplace=True)"
   ]
  },
  {
   "cell_type": "code",
   "execution_count": 7,
   "id": "6a1c8daa-b4fe-42e5-bf35-0da312a748d6",
   "metadata": {},
   "outputs": [],
   "source": [
    "train['total_bath'] = train['full_bath'] + train['half_bath']"
   ]
  },
  {
   "cell_type": "code",
   "execution_count": 8,
   "id": "477a4be9-e71a-4dc1-b3b8-d238598e013d",
   "metadata": {},
   "outputs": [],
   "source": [
    "train.central_air = train.central_air.apply(lambda x: 0 if x.strip()=='N' else 1)"
   ]
  },
  {
   "cell_type": "code",
   "execution_count": 9,
   "id": "4f2fbdc1-4a77-47d3-9b4d-85f0a4fc7dd4",
   "metadata": {},
   "outputs": [
    {
     "data": {
      "text/plain": [
       "array([1, 0], dtype=int64)"
      ]
     },
     "execution_count": 9,
     "metadata": {},
     "output_type": "execute_result"
    }
   ],
   "source": [
    "train.central_air.unique()"
   ]
  },
  {
   "cell_type": "code",
   "execution_count": 10,
   "id": "d97511d2-d35c-45dd-9c72-911787da598f",
   "metadata": {},
   "outputs": [],
   "source": [
    "features = [\n",
    "    'gr_liv_area', \n",
    "    'overall_qual', \n",
    "    'year_built',\n",
    "]"
   ]
  },
  {
   "cell_type": "code",
   "execution_count": 11,
   "id": "0aa1074e-89f4-483e-bb16-43459ab9a435",
   "metadata": {},
   "outputs": [
    {
     "data": {
      "text/plain": [
       "gr_liv_area     0\n",
       "overall_qual    0\n",
       "year_built      0\n",
       "dtype: int64"
      ]
     },
     "execution_count": 11,
     "metadata": {},
     "output_type": "execute_result"
    }
   ],
   "source": [
    "train[features].isnull().sum()"
   ]
  },
  {
   "cell_type": "code",
   "execution_count": 12,
   "id": "55139db1-281c-44cb-8bf3-c63af880cf74",
   "metadata": {},
   "outputs": [],
   "source": [
    "X = train[['gr_liv_area', 'overall_qual', 'year_built']]\n",
    "y = train['sale_price']\n",
    "\n",
    "X_train, X_test, y_train, y_test = train_test_split(X, y, random_state=42)"
   ]
  },
  {
   "cell_type": "code",
   "execution_count": 13,
   "id": "a8ee5058-4031-46c8-9d27-500f495c105f",
   "metadata": {},
   "outputs": [
    {
     "data": {
      "text/plain": [
       "4"
      ]
     },
     "execution_count": 13,
     "metadata": {},
     "output_type": "execute_result"
    }
   ],
   "source": [
    "len(train_test_split(X, y,\n",
    "                train_size=0.8, \n",
    "                random_state=123))"
   ]
  },
  {
   "cell_type": "code",
   "execution_count": 14,
   "id": "5dfe6553-4932-4d88-b19b-04ea990ffa51",
   "metadata": {},
   "outputs": [
    {
     "name": "stdout",
     "output_type": "stream",
     "text": [
      "Train shapes: (1640, 3) (1640,)\n",
      "Test shapes: (411, 3) (411,)\n"
     ]
    }
   ],
   "source": [
    "X_train, X_test, y_train, y_test = train_test_split(X, y, \n",
    "                                                    train_size=0.8,\n",
    "                                                    random_state=123)\n",
    "print(\"Train shapes:\", X_train.shape, y_train.shape)\n",
    "print(\"Test shapes:\", X_test.shape, y_test.shape)"
   ]
  },
  {
   "cell_type": "code",
   "execution_count": 15,
   "id": "4de936f4-ddac-495c-b3d1-9279ff55c453",
   "metadata": {},
   "outputs": [
    {
     "name": "stdout",
     "output_type": "stream",
     "text": [
      "MLR score: 0.7503580983399765\n",
      "MLR intercept: -1053151.1020957488\n",
      "MLR coeffs: [   60.49814858 26067.58646576   499.35634488]\n"
     ]
    }
   ],
   "source": [
    "X = train[features]\n",
    "y = train.sale_price\n",
    "\n",
    "mlr = LinearRegression()\n",
    "mlr.fit(X, y)\n",
    "\n",
    "y_pred = mlr.predict(X)\n",
    "\n",
    "print('MLR score:', mlr.score(X, y))\n",
    "print('MLR intercept:', mlr.intercept_)\n",
    "print('MLR coeffs:', mlr.coef_)"
   ]
  },
  {
   "cell_type": "code",
   "execution_count": 16,
   "id": "1ef94dc4-c82f-406b-89d3-4fc8893aa688",
   "metadata": {},
   "outputs": [
    {
     "data": {
      "text/plain": [
       "array(['2fmCon', 'Duplex', '1Fam', 'TwnhsE', 'Twnhs'], dtype=object)"
      ]
     },
     "execution_count": 16,
     "metadata": {},
     "output_type": "execute_result"
    }
   ],
   "source": [
    "kaggle['Bldg Type'].unique()"
   ]
  },
  {
   "cell_type": "code",
   "execution_count": 17,
   "id": "c0a25671-b355-41f9-a886-e5fbc1685f39",
   "metadata": {},
   "outputs": [
    {
     "data": {
      "text/plain": [
       "Id                0\n",
       "PID               0\n",
       "MS SubClass       0\n",
       "MS Zoning         0\n",
       "Lot Frontage    160\n",
       "               ... \n",
       "Misc Feature      0\n",
       "Misc Val          0\n",
       "Mo Sold           0\n",
       "Yr Sold           0\n",
       "Sale Type         0\n",
       "Length: 80, dtype: int64"
      ]
     },
     "execution_count": 17,
     "metadata": {},
     "output_type": "execute_result"
    }
   ],
   "source": [
    "kaggle.isnull().sum()"
   ]
  },
  {
   "cell_type": "code",
   "execution_count": 18,
   "id": "1a70ffe2-07ba-4b10-86cb-7cb66f734630",
   "metadata": {},
   "outputs": [
    {
     "data": {
      "text/plain": [
       "Id                int64\n",
       "PID               int64\n",
       "MS SubClass       int64\n",
       "MS Zoning        object\n",
       "Lot Frontage    float64\n",
       "                 ...   \n",
       "Misc Feature     object\n",
       "Misc Val          int64\n",
       "Mo Sold           int64\n",
       "Yr Sold           int64\n",
       "Sale Type        object\n",
       "Length: 80, dtype: object"
      ]
     },
     "execution_count": 18,
     "metadata": {},
     "output_type": "execute_result"
    }
   ],
   "source": [
    "kaggle.dtypes"
   ]
  },
  {
   "cell_type": "code",
   "execution_count": 19,
   "id": "1f31ddbe-3d7f-41b0-b454-2aa8a659ebd3",
   "metadata": {},
   "outputs": [],
   "source": [
    "kaggle.columns = [col.replace(' ', '_') for col in kaggle.columns]"
   ]
  },
  {
   "cell_type": "code",
   "execution_count": 20,
   "id": "d8035d72-43a4-403f-adbf-19186fb8fbf1",
   "metadata": {},
   "outputs": [],
   "source": [
    "kaggle.columns = kaggle.columns.str.lower()"
   ]
  },
  {
   "cell_type": "code",
   "execution_count": 21,
   "id": "103ef114-fcc2-4fc8-ab1c-19bd69189232",
   "metadata": {},
   "outputs": [],
   "source": [
    "kaggle.rename(columns={'saleprice': 'sale_price'}, inplace=True)"
   ]
  },
  {
   "cell_type": "code",
   "execution_count": 22,
   "id": "992e153e-a467-43e3-881a-2724b00cd87b",
   "metadata": {},
   "outputs": [],
   "source": [
    "kaggle['total_bath'] = kaggle['full_bath'] + kaggle['half_bath']"
   ]
  },
  {
   "cell_type": "code",
   "execution_count": 23,
   "id": "ac3e29fe-7119-42b6-b191-063f3a0d343e",
   "metadata": {},
   "outputs": [],
   "source": [
    "kaggle.central_air = kaggle.central_air.apply(lambda x: 0 if x.strip()=='N' else 1)"
   ]
  },
  {
   "cell_type": "code",
   "execution_count": 24,
   "id": "26778630-834d-45bc-8af6-331f73827869",
   "metadata": {},
   "outputs": [
    {
     "data": {
      "text/plain": [
       "array([0, 1], dtype=int64)"
      ]
     },
     "execution_count": 24,
     "metadata": {},
     "output_type": "execute_result"
    }
   ],
   "source": [
    "kaggle.central_air.unique()"
   ]
  },
  {
   "cell_type": "code",
   "execution_count": 25,
   "id": "eaead856-0ebc-4ff7-a44b-15d9d2c866c0",
   "metadata": {},
   "outputs": [],
   "source": [
    "mlr = LinearRegression()\n",
    "mlr.fit(X, y)\n",
    "\n",
    "y_pred = mlr.predict(X)"
   ]
  },
  {
   "cell_type": "code",
   "execution_count": 26,
   "id": "7a96f209-c111-4c82-ad1c-feaa9f37f99e",
   "metadata": {},
   "outputs": [],
   "source": [
    "kaggle_subset = kaggle[X.columns]\n",
    "\n",
    "kaggle_preds = mlr.predict(kaggle_subset)"
   ]
  },
  {
   "cell_type": "code",
   "execution_count": 27,
   "id": "47669621-c449-44f0-90b2-6f6b87645cda",
   "metadata": {},
   "outputs": [
    {
     "data": {
      "text/html": [
       "<div>\n",
       "<style scoped>\n",
       "    .dataframe tbody tr th:only-of-type {\n",
       "        vertical-align: middle;\n",
       "    }\n",
       "\n",
       "    .dataframe tbody tr th {\n",
       "        vertical-align: top;\n",
       "    }\n",
       "\n",
       "    .dataframe thead th {\n",
       "        text-align: right;\n",
       "    }\n",
       "</style>\n",
       "<table border=\"1\" class=\"dataframe\">\n",
       "  <thead>\n",
       "    <tr style=\"text-align: right;\">\n",
       "      <th></th>\n",
       "      <th>Id</th>\n",
       "      <th>SalePrice</th>\n",
       "    </tr>\n",
       "  </thead>\n",
       "  <tbody>\n",
       "    <tr>\n",
       "      <th>0</th>\n",
       "      <td>2658</td>\n",
       "      <td>173665.465897</td>\n",
       "    </tr>\n",
       "    <tr>\n",
       "      <th>1</th>\n",
       "      <td>2718</td>\n",
       "      <td>183414.182333</td>\n",
       "    </tr>\n",
       "    <tr>\n",
       "      <th>2</th>\n",
       "      <td>2414</td>\n",
       "      <td>221536.061283</td>\n",
       "    </tr>\n",
       "  </tbody>\n",
       "</table>\n",
       "</div>"
      ],
      "text/plain": [
       "     Id      SalePrice\n",
       "0  2658  173665.465897\n",
       "1  2718  183414.182333\n",
       "2  2414  221536.061283"
      ]
     },
     "execution_count": 27,
     "metadata": {},
     "output_type": "execute_result"
    }
   ],
   "source": [
    "preds_df = pd.DataFrame({\n",
    "    'Id': kaggle['id'],\n",
    "    'SalePrice': kaggle_preds\n",
    "})\n",
    "\n",
    "preds_df.head(3)"
   ]
  },
  {
   "cell_type": "code",
   "execution_count": 31,
   "id": "f0aae601-4ffb-4af5-8e56-a2b077a592d5",
   "metadata": {},
   "outputs": [],
   "source": [
    "preds_df.to_csv('kaggle_822.csv', index=False)"
   ]
  },
  {
   "cell_type": "code",
   "execution_count": 30,
   "id": "0c5a5ec2-4540-420b-91dc-dc09b6a820e4",
   "metadata": {},
   "outputs": [
    {
     "name": "stdout",
     "output_type": "stream",
     "text": [
      "<class 'pandas.core.frame.DataFrame'>\n",
      "RangeIndex: 878 entries, 0 to 877\n",
      "Data columns (total 2 columns):\n",
      " #   Column     Non-Null Count  Dtype  \n",
      "---  ------     --------------  -----  \n",
      " 0   Id         878 non-null    int64  \n",
      " 1   SalePrice  878 non-null    float64\n",
      "dtypes: float64(1), int64(1)\n",
      "memory usage: 13.8 KB\n"
     ]
    }
   ],
   "source": [
    "preds_df.info()"
   ]
  },
  {
   "cell_type": "code",
   "execution_count": null,
   "id": "15cb7253-d5dd-4f27-9f40-cc920f22e157",
   "metadata": {},
   "outputs": [],
   "source": []
  }
 ],
 "metadata": {
  "kernelspec": {
   "display_name": "Python 3 (ipykernel)",
   "language": "python",
   "name": "python3"
  },
  "language_info": {
   "codemirror_mode": {
    "name": "ipython",
    "version": 3
   },
   "file_extension": ".py",
   "mimetype": "text/x-python",
   "name": "python",
   "nbconvert_exporter": "python",
   "pygments_lexer": "ipython3",
   "version": "3.9.12"
  }
 },
 "nbformat": 4,
 "nbformat_minor": 5
}
