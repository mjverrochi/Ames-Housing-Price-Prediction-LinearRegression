{
 "cells": [
  {
   "cell_type": "markdown",
   "id": "74f21935-32e0-4aa1-b7b3-2747ac04b39a",
   "metadata": {},
   "source": [
    "### Project 2 first Kaggle submission"
   ]
  },
  {
   "cell_type": "code",
   "execution_count": 1,
   "id": "b17b2781-e419-4c61-bef8-6d620605662e",
   "metadata": {},
   "outputs": [],
   "source": [
    "import pandas as pd\n",
    "import numpy as np\n",
    "import matplotlib.pyplot as plt\n",
    "from sklearn.linear_model import LinearRegression"
   ]
  },
  {
   "cell_type": "code",
   "execution_count": 2,
   "id": "6d464953-a4f1-4e7d-bfbf-dba730599998",
   "metadata": {},
   "outputs": [],
   "source": [
    "train = pd.read_csv('datasets//train.csv')\n",
    "test = pd.read_csv('datasets//test.csv')\n",
    "sample = pd.read_csv('datasets//sample_sub_reg.csv')"
   ]
  },
  {
   "cell_type": "code",
   "execution_count": 3,
   "id": "b0acc888-26b4-4989-a7a8-3aaa47ad7184",
   "metadata": {},
   "outputs": [
    {
     "data": {
      "text/plain": [
       "((2051, 81), (878, 80), (878, 2))"
      ]
     },
     "execution_count": 3,
     "metadata": {},
     "output_type": "execute_result"
    }
   ],
   "source": [
    "train.shape, test.shape, sample.shape"
   ]
  },
  {
   "cell_type": "code",
   "execution_count": 4,
   "id": "8f860d8c-2f2c-48d2-a32d-117346cea057",
   "metadata": {},
   "outputs": [
    {
     "data": {
      "text/html": [
       "<div>\n",
       "<style scoped>\n",
       "    .dataframe tbody tr th:only-of-type {\n",
       "        vertical-align: middle;\n",
       "    }\n",
       "\n",
       "    .dataframe tbody tr th {\n",
       "        vertical-align: top;\n",
       "    }\n",
       "\n",
       "    .dataframe thead th {\n",
       "        text-align: right;\n",
       "    }\n",
       "</style>\n",
       "<table border=\"1\" class=\"dataframe\">\n",
       "  <thead>\n",
       "    <tr style=\"text-align: right;\">\n",
       "      <th></th>\n",
       "      <th>Id</th>\n",
       "      <th>SalePrice</th>\n",
       "    </tr>\n",
       "  </thead>\n",
       "  <tbody>\n",
       "    <tr>\n",
       "      <th>0</th>\n",
       "      <td>2</td>\n",
       "      <td>181479.1217</td>\n",
       "    </tr>\n",
       "    <tr>\n",
       "      <th>1</th>\n",
       "      <td>4</td>\n",
       "      <td>181479.1217</td>\n",
       "    </tr>\n",
       "  </tbody>\n",
       "</table>\n",
       "</div>"
      ],
      "text/plain": [
       "   Id    SalePrice\n",
       "0   2  181479.1217\n",
       "1   4  181479.1217"
      ]
     },
     "execution_count": 4,
     "metadata": {},
     "output_type": "execute_result"
    }
   ],
   "source": [
    "sample.head(2)"
   ]
  },
  {
   "cell_type": "code",
   "execution_count": 5,
   "id": "09fca984-0af4-447e-9cc4-ad1a89941308",
   "metadata": {},
   "outputs": [],
   "source": [
    "# train model on train\n",
    "# test model on test\n",
    "train.columns\n",
    "X_train = train[['1st Flr SF']]\n",
    "y_train = train.SalePrice\n",
    "X_test = test[['1st Flr SF']]\n",
    "\n",
    "slr_kaggle = LinearRegression()\n",
    "\n",
    "#fit on train df\n",
    "slr_kaggle.fit(X_train, y_train)\n",
    "# predict on test df\n",
    "y_test_hat = slr_kaggle.predict(X_test)"
   ]
  },
  {
   "cell_type": "code",
   "execution_count": 6,
   "id": "384cc6b5-85dc-457f-a9a9-cff354823cd4",
   "metadata": {},
   "outputs": [
    {
     "name": "stdout",
     "output_type": "stream",
     "text": [
      "(878, 80) (878, 2)\n"
     ]
    },
    {
     "data": {
      "text/html": [
       "<div>\n",
       "<style scoped>\n",
       "    .dataframe tbody tr th:only-of-type {\n",
       "        vertical-align: middle;\n",
       "    }\n",
       "\n",
       "    .dataframe tbody tr th {\n",
       "        vertical-align: top;\n",
       "    }\n",
       "\n",
       "    .dataframe thead th {\n",
       "        text-align: right;\n",
       "    }\n",
       "</style>\n",
       "<table border=\"1\" class=\"dataframe\">\n",
       "  <thead>\n",
       "    <tr style=\"text-align: right;\">\n",
       "      <th></th>\n",
       "      <th>Id</th>\n",
       "      <th>SalePrice</th>\n",
       "    </tr>\n",
       "  </thead>\n",
       "  <tbody>\n",
       "    <tr>\n",
       "      <th>0</th>\n",
       "      <td>2658</td>\n",
       "      <td>149755.134628</td>\n",
       "    </tr>\n",
       "    <tr>\n",
       "      <th>1</th>\n",
       "      <td>2718</td>\n",
       "      <td>280699.737426</td>\n",
       "    </tr>\n",
       "    <tr>\n",
       "      <th>2</th>\n",
       "      <td>2414</td>\n",
       "      <td>119584.706788</td>\n",
       "    </tr>\n",
       "  </tbody>\n",
       "</table>\n",
       "</div>"
      ],
      "text/plain": [
       "     Id      SalePrice\n",
       "0  2658  149755.134628\n",
       "1  2718  280699.737426\n",
       "2  2414  119584.706788"
      ]
     },
     "execution_count": 6,
     "metadata": {},
     "output_type": "execute_result"
    }
   ],
   "source": [
    "# create df to upload to kaggle\n",
    "# this df has to have ID and SalePrice columns, spelled exactly this way\n",
    "print(test.shape, sample.shape)\n",
    "kaggle_submission = pd.DataFrame({'Id': test['Id'],\n",
    "                                  'SalePrice': y_test_hat})\n",
    "kaggle_submission.head(3)"
   ]
  },
  {
   "cell_type": "code",
   "execution_count": 7,
   "id": "c56e5162-f0da-4fee-9c3f-6ae2a2e99548",
   "metadata": {},
   "outputs": [],
   "source": [
    "kaggle_submission.to_csv('datasets/slr_to_kaggle.csv',\n",
    "                        index=False)"
   ]
  },
  {
   "cell_type": "code",
   "execution_count": 8,
   "id": "f5c07051-ecd1-44d0-b814-111ba2bf5761",
   "metadata": {},
   "outputs": [
    {
     "data": {
      "text/html": [
       "<div>\n",
       "<style scoped>\n",
       "    .dataframe tbody tr th:only-of-type {\n",
       "        vertical-align: middle;\n",
       "    }\n",
       "\n",
       "    .dataframe tbody tr th {\n",
       "        vertical-align: top;\n",
       "    }\n",
       "\n",
       "    .dataframe thead th {\n",
       "        text-align: right;\n",
       "    }\n",
       "</style>\n",
       "<table border=\"1\" class=\"dataframe\">\n",
       "  <thead>\n",
       "    <tr style=\"text-align: right;\">\n",
       "      <th></th>\n",
       "      <th>Id</th>\n",
       "      <th>SalePrice</th>\n",
       "    </tr>\n",
       "  </thead>\n",
       "  <tbody>\n",
       "    <tr>\n",
       "      <th>0</th>\n",
       "      <td>2658</td>\n",
       "      <td>149755.134628</td>\n",
       "    </tr>\n",
       "    <tr>\n",
       "      <th>1</th>\n",
       "      <td>2718</td>\n",
       "      <td>280699.737426</td>\n",
       "    </tr>\n",
       "    <tr>\n",
       "      <th>2</th>\n",
       "      <td>2414</td>\n",
       "      <td>119584.706788</td>\n",
       "    </tr>\n",
       "    <tr>\n",
       "      <th>3</th>\n",
       "      <td>1989</td>\n",
       "      <td>157174.092294</td>\n",
       "    </tr>\n",
       "    <tr>\n",
       "      <th>4</th>\n",
       "      <td>625</td>\n",
       "      <td>209848.691719</td>\n",
       "    </tr>\n",
       "    <tr>\n",
       "      <th>...</th>\n",
       "      <td>...</td>\n",
       "      <td>...</td>\n",
       "    </tr>\n",
       "    <tr>\n",
       "      <th>873</th>\n",
       "      <td>1662</td>\n",
       "      <td>171517.410447</td>\n",
       "    </tr>\n",
       "    <tr>\n",
       "      <th>874</th>\n",
       "      <td>1234</td>\n",
       "      <td>173990.396336</td>\n",
       "    </tr>\n",
       "    <tr>\n",
       "      <th>875</th>\n",
       "      <td>1373</td>\n",
       "      <td>187220.870839</td>\n",
       "    </tr>\n",
       "    <tr>\n",
       "      <th>876</th>\n",
       "      <td>1672</td>\n",
       "      <td>144314.565673</td>\n",
       "    </tr>\n",
       "    <tr>\n",
       "      <th>877</th>\n",
       "      <td>1939</td>\n",
       "      <td>151857.172633</td>\n",
       "    </tr>\n",
       "  </tbody>\n",
       "</table>\n",
       "<p>878 rows × 2 columns</p>\n",
       "</div>"
      ],
      "text/plain": [
       "       Id      SalePrice\n",
       "0    2658  149755.134628\n",
       "1    2718  280699.737426\n",
       "2    2414  119584.706788\n",
       "3    1989  157174.092294\n",
       "4     625  209848.691719\n",
       "..    ...            ...\n",
       "873  1662  171517.410447\n",
       "874  1234  173990.396336\n",
       "875  1373  187220.870839\n",
       "876  1672  144314.565673\n",
       "877  1939  151857.172633\n",
       "\n",
       "[878 rows x 2 columns]"
      ]
     },
     "execution_count": 8,
     "metadata": {},
     "output_type": "execute_result"
    }
   ],
   "source": [
    "pd.read_csv('datasets/slr_to_kaggle.csv')"
   ]
  },
  {
   "cell_type": "code",
   "execution_count": null,
   "id": "ddd92290-fc80-4beb-8549-db9c8909976b",
   "metadata": {},
   "outputs": [],
   "source": []
  },
  {
   "cell_type": "code",
   "execution_count": null,
   "id": "b20382d4-b196-46f8-9ac6-5e97810ac216",
   "metadata": {},
   "outputs": [],
   "source": []
  },
  {
   "cell_type": "code",
   "execution_count": null,
   "id": "29439618-c253-4c3b-a653-65e22dad1fc5",
   "metadata": {},
   "outputs": [],
   "source": []
  },
  {
   "cell_type": "code",
   "execution_count": null,
   "id": "2109ce01-240c-45b1-829d-9b994ea30c0b",
   "metadata": {},
   "outputs": [],
   "source": []
  },
  {
   "cell_type": "code",
   "execution_count": 9,
   "id": "e64c0e0a-9427-4bf4-9cb4-c7f4fd5a2f73",
   "metadata": {},
   "outputs": [
    {
     "data": {
      "text/html": [
       "<div>\n",
       "<style scoped>\n",
       "    .dataframe tbody tr th:only-of-type {\n",
       "        vertical-align: middle;\n",
       "    }\n",
       "\n",
       "    .dataframe tbody tr th {\n",
       "        vertical-align: top;\n",
       "    }\n",
       "\n",
       "    .dataframe thead th {\n",
       "        text-align: right;\n",
       "    }\n",
       "</style>\n",
       "<table border=\"1\" class=\"dataframe\">\n",
       "  <thead>\n",
       "    <tr style=\"text-align: right;\">\n",
       "      <th></th>\n",
       "      <th>Id</th>\n",
       "      <th>PID</th>\n",
       "      <th>MS SubClass</th>\n",
       "      <th>MS Zoning</th>\n",
       "      <th>Lot Frontage</th>\n",
       "      <th>Lot Area</th>\n",
       "      <th>Street</th>\n",
       "      <th>Alley</th>\n",
       "      <th>Lot Shape</th>\n",
       "      <th>Land Contour</th>\n",
       "      <th>...</th>\n",
       "      <th>Screen Porch</th>\n",
       "      <th>Pool Area</th>\n",
       "      <th>Pool QC</th>\n",
       "      <th>Fence</th>\n",
       "      <th>Misc Feature</th>\n",
       "      <th>Misc Val</th>\n",
       "      <th>Mo Sold</th>\n",
       "      <th>Yr Sold</th>\n",
       "      <th>Sale Type</th>\n",
       "      <th>SalePrice</th>\n",
       "    </tr>\n",
       "  </thead>\n",
       "  <tbody>\n",
       "    <tr>\n",
       "      <th>0</th>\n",
       "      <td>109</td>\n",
       "      <td>533352170</td>\n",
       "      <td>60</td>\n",
       "      <td>RL</td>\n",
       "      <td>NaN</td>\n",
       "      <td>13517</td>\n",
       "      <td>Pave</td>\n",
       "      <td>NaN</td>\n",
       "      <td>IR1</td>\n",
       "      <td>Lvl</td>\n",
       "      <td>...</td>\n",
       "      <td>0</td>\n",
       "      <td>0</td>\n",
       "      <td>NaN</td>\n",
       "      <td>NaN</td>\n",
       "      <td>NaN</td>\n",
       "      <td>0</td>\n",
       "      <td>3</td>\n",
       "      <td>2010</td>\n",
       "      <td>WD</td>\n",
       "      <td>130500</td>\n",
       "    </tr>\n",
       "  </tbody>\n",
       "</table>\n",
       "<p>1 rows × 81 columns</p>\n",
       "</div>"
      ],
      "text/plain": [
       "    Id        PID  MS SubClass MS Zoning  Lot Frontage  Lot Area Street Alley  \\\n",
       "0  109  533352170           60        RL           NaN     13517   Pave   NaN   \n",
       "\n",
       "  Lot Shape Land Contour  ... Screen Porch Pool Area Pool QC Fence  \\\n",
       "0       IR1          Lvl  ...            0         0     NaN   NaN   \n",
       "\n",
       "  Misc Feature Misc Val Mo Sold Yr Sold  Sale Type  SalePrice  \n",
       "0          NaN        0       3    2010        WD      130500  \n",
       "\n",
       "[1 rows x 81 columns]"
      ]
     },
     "execution_count": 9,
     "metadata": {},
     "output_type": "execute_result"
    }
   ],
   "source": [
    "train.head(1)"
   ]
  },
  {
   "cell_type": "code",
   "execution_count": 10,
   "id": "11d22dc3-ca4c-454c-9bc3-1e3bf458d403",
   "metadata": {},
   "outputs": [
    {
     "data": {
      "text/plain": [
       "(2051, 81)"
      ]
     },
     "execution_count": 10,
     "metadata": {},
     "output_type": "execute_result"
    }
   ],
   "source": [
    "train.shape"
   ]
  },
  {
   "cell_type": "code",
   "execution_count": 11,
   "id": "cc8c7ca7-3672-4b93-9eb2-04321537982c",
   "metadata": {},
   "outputs": [],
   "source": [
    "train['baseline'] = train['SalePrice'].mean()"
   ]
  },
  {
   "cell_type": "code",
   "execution_count": 12,
   "id": "0f8024c6-6cf1-4488-ad67-22a526ef2820",
   "metadata": {},
   "outputs": [],
   "source": [
    "train.drop(train.columns[0:4], axis=1, inplace=True)\n",
    "train.drop(train.columns[2:12], axis=1, inplace=True)\n",
    "train.drop(train.columns[3:33], axis=1, inplace=True)\n",
    "train.drop(train.columns[4:6], axis=1, inplace=True)\n",
    "train.drop(train.columns[6:34], axis=1, inplace=True)"
   ]
  },
  {
   "cell_type": "code",
   "execution_count": 13,
   "id": "3554ecad-04d4-4639-941c-1e5b235a12f8",
   "metadata": {},
   "outputs": [],
   "source": [
    "train = train.loc[train['Bldg Type'] == '1Fam']"
   ]
  },
  {
   "cell_type": "code",
   "execution_count": 14,
   "id": "6ec1d970-f394-44e6-85c7-c03bc33c36f7",
   "metadata": {},
   "outputs": [
    {
     "data": {
      "text/plain": [
       "(1700, 8)"
      ]
     },
     "execution_count": 14,
     "metadata": {},
     "output_type": "execute_result"
    }
   ],
   "source": [
    "train.shape"
   ]
  },
  {
   "cell_type": "code",
   "execution_count": 15,
   "id": "45ff62da-5636-4be3-b905-88fd4a5b2ade",
   "metadata": {},
   "outputs": [
    {
     "data": {
      "text/plain": [
       "Lot Frontage    285\n",
       "Lot Area          0\n",
       "Bldg Type         0\n",
       "Gr Liv Area       0\n",
       "Full Bath         0\n",
       "Half Bath         0\n",
       "SalePrice         0\n",
       "baseline          0\n",
       "dtype: int64"
      ]
     },
     "execution_count": 15,
     "metadata": {},
     "output_type": "execute_result"
    }
   ],
   "source": [
    "train.isnull().sum()"
   ]
  },
  {
   "cell_type": "code",
   "execution_count": 16,
   "id": "16742976-0713-46ab-91c8-b7831c53cdb2",
   "metadata": {},
   "outputs": [
    {
     "data": {
      "text/plain": [
       "Lot Frontage    float64\n",
       "Lot Area          int64\n",
       "Bldg Type        object\n",
       "Gr Liv Area       int64\n",
       "Full Bath         int64\n",
       "Half Bath         int64\n",
       "SalePrice         int64\n",
       "baseline        float64\n",
       "dtype: object"
      ]
     },
     "execution_count": 16,
     "metadata": {},
     "output_type": "execute_result"
    }
   ],
   "source": [
    "train.dtypes"
   ]
  },
  {
   "cell_type": "code",
   "execution_count": 17,
   "id": "35e55f0c-79c0-4511-b2c0-775b1ab6403f",
   "metadata": {},
   "outputs": [
    {
     "data": {
      "text/plain": [
       "array([ nan,  43.,  68.,  73.,  82., 137.,  70.,  64., 120.,  74.,  93.,\n",
       "        34.,  80.,  71.,  72., 109., 103.,  92.,  65.,  60.,  79., 105.,\n",
       "        75., 107.,  81., 100.,  63.,  94.,  44.,  50.,  35.,  67.,  88.,\n",
       "        83.,  53.,  58.,  57.,  52.,  87., 134.,  56.,  54., 140.,  78.,\n",
       "        85.,  90.,  96.,  62.,  49.,  59., 155.,  61.,  86., 128.,  77.,\n",
       "        42.,  89.,  51.,  69.,  55., 112.,  76.,  48., 125.,  98., 113.,\n",
       "       102.,  40., 122.,  91.,  84., 119., 118.,  66.,  95., 108.,  41.,\n",
       "       106., 110.,  30., 130.,  97.,  45., 123., 129., 115.,  47., 114.,\n",
       "       104.,  39.,  46., 121., 124., 313., 141., 101.,  99., 160., 174.,\n",
       "       144.,  37., 138.,  38., 111., 200., 150., 117., 153., 116.])"
      ]
     },
     "execution_count": 17,
     "metadata": {},
     "output_type": "execute_result"
    }
   ],
   "source": [
    "train['Lot Frontage'].unique()"
   ]
  },
  {
   "cell_type": "code",
   "execution_count": 18,
   "id": "a2cd827d-210c-46cc-96b0-13bf52c2f708",
   "metadata": {},
   "outputs": [
    {
     "data": {
      "text/plain": [
       "array([13517, 11492,  7922, ..., 12444, 11449,  7558], dtype=int64)"
      ]
     },
     "execution_count": 18,
     "metadata": {},
     "output_type": "execute_result"
    }
   ],
   "source": [
    "train['Lot Area'].unique()"
   ]
  },
  {
   "cell_type": "code",
   "execution_count": 19,
   "id": "b615b394-35a1-4cd8-9ac8-ee0058b187ad",
   "metadata": {},
   "outputs": [
    {
     "data": {
      "text/html": [
       "<div>\n",
       "<style scoped>\n",
       "    .dataframe tbody tr th:only-of-type {\n",
       "        vertical-align: middle;\n",
       "    }\n",
       "\n",
       "    .dataframe tbody tr th {\n",
       "        vertical-align: top;\n",
       "    }\n",
       "\n",
       "    .dataframe thead th {\n",
       "        text-align: right;\n",
       "    }\n",
       "</style>\n",
       "<table border=\"1\" class=\"dataframe\">\n",
       "  <thead>\n",
       "    <tr style=\"text-align: right;\">\n",
       "      <th></th>\n",
       "      <th>Lot Frontage</th>\n",
       "      <th>Lot Area</th>\n",
       "      <th>Bldg Type</th>\n",
       "      <th>Gr Liv Area</th>\n",
       "      <th>Full Bath</th>\n",
       "      <th>Half Bath</th>\n",
       "      <th>SalePrice</th>\n",
       "      <th>baseline</th>\n",
       "    </tr>\n",
       "  </thead>\n",
       "  <tbody>\n",
       "    <tr>\n",
       "      <th>0</th>\n",
       "      <td>NaN</td>\n",
       "      <td>13517</td>\n",
       "      <td>1Fam</td>\n",
       "      <td>1479</td>\n",
       "      <td>2</td>\n",
       "      <td>1</td>\n",
       "      <td>130500</td>\n",
       "      <td>181469.701609</td>\n",
       "    </tr>\n",
       "    <tr>\n",
       "      <th>1</th>\n",
       "      <td>43.0</td>\n",
       "      <td>11492</td>\n",
       "      <td>1Fam</td>\n",
       "      <td>2122</td>\n",
       "      <td>2</td>\n",
       "      <td>1</td>\n",
       "      <td>220000</td>\n",
       "      <td>181469.701609</td>\n",
       "    </tr>\n",
       "    <tr>\n",
       "      <th>2</th>\n",
       "      <td>68.0</td>\n",
       "      <td>7922</td>\n",
       "      <td>1Fam</td>\n",
       "      <td>1057</td>\n",
       "      <td>1</td>\n",
       "      <td>0</td>\n",
       "      <td>109000</td>\n",
       "      <td>181469.701609</td>\n",
       "    </tr>\n",
       "    <tr>\n",
       "      <th>3</th>\n",
       "      <td>73.0</td>\n",
       "      <td>9802</td>\n",
       "      <td>1Fam</td>\n",
       "      <td>1444</td>\n",
       "      <td>2</td>\n",
       "      <td>1</td>\n",
       "      <td>174000</td>\n",
       "      <td>181469.701609</td>\n",
       "    </tr>\n",
       "    <tr>\n",
       "      <th>4</th>\n",
       "      <td>82.0</td>\n",
       "      <td>14235</td>\n",
       "      <td>1Fam</td>\n",
       "      <td>1445</td>\n",
       "      <td>2</td>\n",
       "      <td>0</td>\n",
       "      <td>138500</td>\n",
       "      <td>181469.701609</td>\n",
       "    </tr>\n",
       "    <tr>\n",
       "      <th>...</th>\n",
       "      <td>...</td>\n",
       "      <td>...</td>\n",
       "      <td>...</td>\n",
       "      <td>...</td>\n",
       "      <td>...</td>\n",
       "      <td>...</td>\n",
       "      <td>...</td>\n",
       "      <td>...</td>\n",
       "    </tr>\n",
       "    <tr>\n",
       "      <th>2046</th>\n",
       "      <td>79.0</td>\n",
       "      <td>11449</td>\n",
       "      <td>1Fam</td>\n",
       "      <td>1728</td>\n",
       "      <td>2</td>\n",
       "      <td>0</td>\n",
       "      <td>298751</td>\n",
       "      <td>181469.701609</td>\n",
       "    </tr>\n",
       "    <tr>\n",
       "      <th>2047</th>\n",
       "      <td>NaN</td>\n",
       "      <td>12342</td>\n",
       "      <td>1Fam</td>\n",
       "      <td>861</td>\n",
       "      <td>1</td>\n",
       "      <td>0</td>\n",
       "      <td>82500</td>\n",
       "      <td>181469.701609</td>\n",
       "    </tr>\n",
       "    <tr>\n",
       "      <th>2048</th>\n",
       "      <td>57.0</td>\n",
       "      <td>7558</td>\n",
       "      <td>1Fam</td>\n",
       "      <td>1913</td>\n",
       "      <td>1</td>\n",
       "      <td>1</td>\n",
       "      <td>177000</td>\n",
       "      <td>181469.701609</td>\n",
       "    </tr>\n",
       "    <tr>\n",
       "      <th>2049</th>\n",
       "      <td>80.0</td>\n",
       "      <td>10400</td>\n",
       "      <td>1Fam</td>\n",
       "      <td>1200</td>\n",
       "      <td>1</td>\n",
       "      <td>0</td>\n",
       "      <td>144000</td>\n",
       "      <td>181469.701609</td>\n",
       "    </tr>\n",
       "    <tr>\n",
       "      <th>2050</th>\n",
       "      <td>60.0</td>\n",
       "      <td>7500</td>\n",
       "      <td>1Fam</td>\n",
       "      <td>1804</td>\n",
       "      <td>2</td>\n",
       "      <td>1</td>\n",
       "      <td>189000</td>\n",
       "      <td>181469.701609</td>\n",
       "    </tr>\n",
       "  </tbody>\n",
       "</table>\n",
       "<p>1700 rows × 8 columns</p>\n",
       "</div>"
      ],
      "text/plain": [
       "      Lot Frontage  Lot Area Bldg Type  Gr Liv Area  Full Bath  Half Bath  \\\n",
       "0              NaN     13517      1Fam         1479          2          1   \n",
       "1             43.0     11492      1Fam         2122          2          1   \n",
       "2             68.0      7922      1Fam         1057          1          0   \n",
       "3             73.0      9802      1Fam         1444          2          1   \n",
       "4             82.0     14235      1Fam         1445          2          0   \n",
       "...            ...       ...       ...          ...        ...        ...   \n",
       "2046          79.0     11449      1Fam         1728          2          0   \n",
       "2047           NaN     12342      1Fam          861          1          0   \n",
       "2048          57.0      7558      1Fam         1913          1          1   \n",
       "2049          80.0     10400      1Fam         1200          1          0   \n",
       "2050          60.0      7500      1Fam         1804          2          1   \n",
       "\n",
       "      SalePrice       baseline  \n",
       "0        130500  181469.701609  \n",
       "1        220000  181469.701609  \n",
       "2        109000  181469.701609  \n",
       "3        174000  181469.701609  \n",
       "4        138500  181469.701609  \n",
       "...         ...            ...  \n",
       "2046     298751  181469.701609  \n",
       "2047      82500  181469.701609  \n",
       "2048     177000  181469.701609  \n",
       "2049     144000  181469.701609  \n",
       "2050     189000  181469.701609  \n",
       "\n",
       "[1700 rows x 8 columns]"
      ]
     },
     "execution_count": 19,
     "metadata": {},
     "output_type": "execute_result"
    }
   ],
   "source": [
    "train"
   ]
  },
  {
   "cell_type": "raw",
   "id": "0eef3ece-acbd-41e7-bce6-85d4170ec71b",
   "metadata": {},
   "source": []
  }
 ],
 "metadata": {
  "kernelspec": {
   "display_name": "Python 3 (ipykernel)",
   "language": "python",
   "name": "python3"
  },
  "language_info": {
   "codemirror_mode": {
    "name": "ipython",
    "version": 3
   },
   "file_extension": ".py",
   "mimetype": "text/x-python",
   "name": "python",
   "nbconvert_exporter": "python",
   "pygments_lexer": "ipython3",
   "version": "3.9.12"
  }
 },
 "nbformat": 4,
 "nbformat_minor": 5
}
